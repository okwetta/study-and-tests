{
 "cells": [
  {
   "cell_type": "markdown",
   "metadata": {
    "id": "W6MyHMwNsTkm"
   },
   "source": [
    "# Визуализация данных при помощи t-SNE"
   ]
  },
  {
   "cell_type": "code",
   "execution_count": null,
   "metadata": {
    "id": "_FrRBx-Uqn4F"
   },
   "outputs": [],
   "source": [
    "import numpy as np\n",
    "import pandas as pd\n",
    "import matplotlib.pyplot as plt\n",
    "import seaborn as sns\n",
    "\n",
    "from sklearn import datasets\n",
    "from sklearn.manifold import TSNE\n",
    "\n",
    "RANDOM_STATE = 42"
   ]
  },
  {
   "cell_type": "markdown",
   "metadata": {
    "id": "cN1e2faysXI0"
   },
   "source": [
    "Загрузим данные"
   ]
  },
  {
   "cell_type": "code",
   "execution_count": null,
   "metadata": {
    "colab": {
     "base_uri": "https://localhost:8080/"
    },
    "id": "MRyBDXV3q6QE",
    "outputId": "ca9265bb-7cd1-4e7f-abf1-9a8b59b21f1a"
   },
   "outputs": [],
   "source": [
    "from sklearn.datasets import load_digits\n",
    "\n",
    "digits = load_digits()\n",
    "\n",
    "pixel_data = digits.data\n",
    "target = digits.target\n",
    "\n",
    "pixel_data.shape"
   ]
  },
  {
   "cell_type": "code",
   "execution_count": null,
   "metadata": {
    "colab": {
     "base_uri": "https://localhost:8080/",
     "height": 452
    },
    "id": "A82otHYcrIVN",
    "outputId": "ec9029c3-d7d7-43ae-ef43-5aeab494bea9"
   },
   "outputs": [],
   "source": [
    "single_image = pixel_data[105, :].reshape(8,8)\n",
    "\n",
    "plt.imshow(single_image, cmap='gray')\n",
    "plt.title(f\"Image of the text: {target[105]}\", fontsize=15)\n",
    "plt.show()"
   ]
  },
  {
   "cell_type": "markdown",
   "metadata": {
    "id": "ume37g2IsZlU"
   },
   "source": [
    "Будем делать визуализацию на плоскости (n_components = 2)"
   ]
  },
  {
   "cell_type": "code",
   "execution_count": null,
   "metadata": {
    "id": "wf5KgOIkrQbK"
   },
   "outputs": [],
   "source": [
    "tsne = TSNE(n_components=2, random_state=RANDOM_STATE)\n",
    "\n",
    "x_transformed = tsne.fit_transform(pixel_data)"
   ]
  },
  {
   "cell_type": "code",
   "execution_count": null,
   "metadata": {
    "colab": {
     "base_uri": "https://localhost:8080/"
    },
    "id": "JeI7MeEPreul",
    "outputId": "2569a930-3283-44e2-face-bc0d2c39bd09"
   },
   "outputs": [],
   "source": [
    "tsne_df = pd.DataFrame(np.column_stack((x_transformed, target)), columns=['X', 'Y', \"Targets\"])\n",
    "\n",
    "tsne_df.loc[:, \"Targets\"] = tsne_df.Targets.astype(int)"
   ]
  },
  {
   "cell_type": "code",
   "execution_count": null,
   "metadata": {
    "colab": {
     "base_uri": "https://localhost:8080/",
     "height": 352
    },
    "id": "OBiqbPY9sEq0",
    "outputId": "75d5ce79-2ed7-41a4-9244-d3fcc3322005"
   },
   "outputs": [],
   "source": [
    "tsne_df.head(10)"
   ]
  },
  {
   "cell_type": "markdown",
   "metadata": {
    "id": "1B_DifxEsoRp"
   },
   "source": [
    "Нарисуем результат"
   ]
  },
  {
   "cell_type": "code",
   "execution_count": null,
   "metadata": {
    "colab": {
     "base_uri": "https://localhost:8080/",
     "height": 823
    },
    "id": "HHYnAKB8sHRU",
    "outputId": "f8c167e4-02e7-428d-e5b7-f3479cdd9361"
   },
   "outputs": [],
   "source": [
    "plt.figure(figsize=(10,8))\n",
    "\n",
    "g = sns.FacetGrid(data=tsne_df, hue='Targets', height=8)\n",
    "\n",
    "g.map(plt.scatter, 'X', 'Y').add_legend()\n",
    "\n",
    "plt.show()"
   ]
  },
  {
   "cell_type": "code",
   "execution_count": null,
   "metadata": {
    "id": "LYnpMk1m5HNy"
   },
   "outputs": [],
   "source": []
  }
 ],
 "metadata": {
  "colab": {
   "provenance": []
  },
  "kernelspec": {
   "display_name": "Python 3 (ipykernel)",
   "language": "python",
   "name": "python3"
  },
  "language_info": {
   "codemirror_mode": {
    "name": "ipython",
    "version": 3
   },
   "file_extension": ".py",
   "mimetype": "text/x-python",
   "name": "python",
   "nbconvert_exporter": "python",
   "pygments_lexer": "ipython3",
   "version": "3.11.9"
  }
 },
 "nbformat": 4,
 "nbformat_minor": 4
}
