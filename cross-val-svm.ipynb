{
 "cells": [
  {
   "cell_type": "markdown",
   "metadata": {
    "id": "MUZ6rDRxJX9P"
   },
   "source": [
    "# SVM + cross-val"
   ]
  },
  {
   "cell_type": "code",
   "execution_count": null,
   "metadata": {
    "id": "T22iTCsq2eQ_"
   },
   "outputs": [],
   "source": [
    "%%capture\n",
    "!python -m pip install --upgrade pip\n",
    "!pip install --upgrade scikit-learn-intelex"
   ]
  },
  {
   "cell_type": "code",
   "execution_count": null,
   "metadata": {
    "colab": {
     "base_uri": "https://localhost:8080/"
    },
    "id": "vXCU3KNXwm9x",
    "outputId": "343c3036-e1a3-420b-e65e-da3e48c0c0d0"
   },
   "outputs": [],
   "source": [
    "# Запатчим sklearn для быстрой работы\n",
    "\n",
    "from sklearnex import patch_sklearn\n",
    "patch_sklearn()"
   ]
  },
  {
   "cell_type": "code",
   "execution_count": null,
   "metadata": {
    "id": "28pC0ajQt7QF"
   },
   "outputs": [],
   "source": [
    "import pandas as pd\n",
    "import numpy as np\n",
    "import sys\n",
    "import os\n",
    "import site\n",
    "from matplotlib import pyplot as plt\n",
    "\n",
    "sys.path.append(os.path.join(os.path.dirname(site.getsitepackages()[0]), \"site-packages\"))"
   ]
  },
  {
   "cell_type": "code",
   "execution_count": null,
   "metadata": {
    "colab": {
     "base_uri": "https://localhost:8080/",
     "height": 206
    },
    "id": "o42lJKF0taQ8",
    "outputId": "4b60e19a-3634-4562-a5ad-9d034e4c3071"
   },
   "outputs": [],
   "source": [
    "# Загрузим и посмотрим на дату\n",
    "\n",
    "df = pd.read_csv(\"https://raw.githubusercontent.com/evgpat/edu_stepik_practical_ml/main/datasets/data.adult.csv\")\n",
    "df.head(10)"
   ]
  },
  {
   "cell_type": "code",
   "execution_count": null,
   "metadata": {
    "colab": {
     "base_uri": "https://localhost:8080/"
    },
    "id": "sDsgwXUktaQ-",
    "outputId": "408d773d-4eb0-43e0-dbca-72b291e4de04"
   },
   "outputs": [],
   "source": [
    "print(df[df == '?'].count())"
   ]
  },
  {
   "cell_type": "code",
   "execution_count": null,
   "metadata": {
    "colab": {
     "base_uri": "https://localhost:8080/"
    },
    "id": "3FLxyOo6v7Ej",
    "outputId": "c28762ca-9c06-4876-8184-112ea20ca09c"
   },
   "outputs": [],
   "source": [
    "df = df.query(\"occupation != '?'\")\n",
    "print(df[df == '?'].count())"
   ]
  },
  {
   "cell_type": "code",
   "execution_count": null,
   "metadata": {
    "id": "L3ktg3zUtaQ_"
   },
   "outputs": [],
   "source": [
    "# Выделим целевую переменную, названия категориальных и вещественных колонок\n",
    "\n",
    "y = df['>50K,<=50K'].map({'>50K':1 ,'<=50K':0})\n",
    "\n",
    "cat_col = df.select_dtypes(include=['object']).columns.tolist()\n",
    "num_col = df.select_dtypes(exclude=['object']).columns.tolist()\n",
    "\n",
    "x = df[num_col]\n",
    "print(x)"
   ]
  },
  {
   "cell_type": "code",
   "execution_count": null,
   "metadata": {
    "colab": {
     "base_uri": "https://localhost:8080/",
     "height": 1000
    },
    "id": "tZXDMgki8TEw",
    "outputId": "8e8df940-625f-4ef1-a903-714324a8a1a5"
   },
   "outputs": [],
   "source": [
    "# Посмотрим на гистограммы по признакам объектов\n",
    "\n",
    "plt.hist(df['age'], bins=15, edgecolor='black')\n",
    "plt.show()\n",
    "plt.hist(df['fnlwgt'], bins=15, edgecolor='black')\n",
    "plt.show()\n",
    "plt.hist(df['capital-gain'], bins=15, edgecolor='black')\n",
    "plt.show()\n",
    "plt.hist(df['education-num'], bins=15, edgecolor='black')\n",
    "plt.show()\n",
    "plt.hist(df['capital-loss'], bins=15, edgecolor='black')\n",
    "plt.show()\n",
    "plt.hist(df['hours-per-week'], bins=15, edgecolor='black')\n",
    "plt.show()\n"
   ]
  },
  {
   "cell_type": "code",
   "execution_count": null,
   "metadata": {
    "colab": {
     "base_uri": "https://localhost:8080/"
    },
    "id": "iQSk7m9W8TEw",
    "outputId": "3ec77c2c-ae30-4ad6-cdcb-0e1349e96fd4"
   },
   "outputs": [],
   "source": [
    "# Отскейлим дату с помощью StandardScaler \n",
    "\n",
    "from sklearn.preprocessing import StandardScaler\n",
    "\n",
    "scaler = StandardScaler()\n",
    "X = pd.DataFrame(scaler.fit_transform(x), columns = x.columns)\n",
    "\n",
    "print(X)"
   ]
  },
  {
   "cell_type": "code",
   "execution_count": null,
   "metadata": {
    "colab": {
     "base_uri": "https://localhost:8080/"
    },
    "id": "qTidKGjbySO7",
    "outputId": "ef50cb68-2f70-404e-ced1-ec26564f7291"
   },
   "outputs": [],
   "source": [
    "# Посмотрим как справится логистическая регресия и svm в кроссвалидации\n",
    "\n",
    "from sklearn.model_selection import cross_val_score\n",
    "from sklearn.metrics import roc_auc_score\n",
    "from sklearn.linear_model import LogisticRegression\n",
    "from sklearn.svm import SVC\n",
    "\n",
    "cross_val_score(LogisticRegression(), X, y, cv=3, scoring='roc_auc', verbose=2).mean()"
   ]
  },
  {
   "cell_type": "code",
   "execution_count": null,
   "metadata": {},
   "outputs": [],
   "source": [
    "cross_val_score(SVC(kernel='rbf', C = 3.5), X, y, cv=3, scoring='roc_auc', verbose=2).mean()"
   ]
  },
  {
   "cell_type": "code",
   "execution_count": null,
   "metadata": {
    "colab": {
     "base_uri": "https://localhost:8080/"
    },
    "id": "1ClHRH2ftaRA",
    "outputId": "c7a74c79-bf43-4230-b6e4-13ebd7892a81"
   },
   "outputs": [],
   "source": [
    "# Подберем C у логистической регрессии и ядро svm\n",
    "\n",
    "from sklearn.model_selection import GridSearchCV\n",
    "\n",
    "params = {'C' : [1, 2, 3]}\n",
    "\n",
    "gs = GridSearchCV(LogisticRegression(), params, cv=3, scoring='roc_auc')\n",
    "gs.fit(X, y)\n",
    "\n",
    "print(gs.best_score_)\n",
    "print(gs.best_params_) "
   ]
  },
  {
   "cell_type": "code",
   "execution_count": null,
   "metadata": {
    "colab": {
     "base_uri": "https://localhost:8080/"
    },
    "id": "qdDqwUCxB2Q0",
    "outputId": "8c95bbda-0a33-4c8d-fe01-40d328fbcc69"
   },
   "outputs": [],
   "source": [
    "params = {'kernel' : ['rbf','poly','sigmoid','linear'],\n",
    "          'C' : np.arange(0.01, 2.01, 0.25)} \n",
    "\n",
    "gs = GridSearchCV(SVC(), params, cv=3, scoring='roc_auc')\n",
    "gs.fit(X, y) \n",
    "\n",
    "print(gs.best_score_) \n",
    "print(gs.best_params_) "
   ]
  },
  {
   "cell_type": "code",
   "execution_count": null,
   "metadata": {
    "colab": {
     "base_uri": "https://localhost:8080/",
     "height": 290
    },
    "id": "9XsO_AC_taRD",
    "outputId": "d6151ed9-e7a4-41a3-8fa2-a8fde1de2aa0"
   },
   "outputs": [],
   "source": [
    "# Добавим к вещественным признакам категориальные и посмотрим на качество модели на кроссвалидации\n",
    "\n",
    "X_old = df.drop('>50K,<=50K', axis=1)\n",
    "\n",
    "X_new = pd.get_dummies(X_old, columns = X_old.select_dtypes(include=['object']).columns.tolist(), dtype = float, drop_first = True)\n",
    "X_new = pd.DataFrame(scaler.fit_transform(X_new), columns = X_new.columns)\n",
    "X_new.head()"
   ]
  },
  {
   "cell_type": "code",
   "execution_count": null,
   "metadata": {
    "colab": {
     "base_uri": "https://localhost:8080/"
    },
    "id": "8l2SvJXotaRE",
    "outputId": "6690e00c-4163-4ed1-8ecd-ef021d94b4dd"
   },
   "outputs": [],
   "source": [
    "cross_val_score(LogisticRegression(C = 1), X_new, y, cv=3, scoring='roc_auc', verbose=2).mean()"
   ]
  },
  {
   "cell_type": "code",
   "execution_count": null,
   "metadata": {
    "colab": {
     "base_uri": "https://localhost:8080/"
    },
    "id": "Swt0CjWpHX9i",
    "outputId": "e0d1be40-c177-4de8-bf31-b30123a8c5ff"
   },
   "outputs": [],
   "source": [
    "cross_val_score(SVC(kernel='linear', C = 0.01), X_new, y, cv=3, scoring='roc_auc', verbose=2).mean()"
   ]
  },
  {
   "cell_type": "code",
   "execution_count": null,
   "metadata": {
    "colab": {
     "base_uri": "https://localhost:8080/"
    },
    "id": "Dda7kAMZtaRF",
    "outputId": "1b64b136-ba86-4e62-e61e-1735d632cff6"
   },
   "outputs": [],
   "source": [
    "# Разделим дату на трейн и тест, обучим модель с наилучшими показателями и построим roc_curve\n",
    "\n",
    "from sklearn.model_selection import train_test_split\n",
    "\n",
    "X_train, X_test, y_train, y_test = train_test_split(X_new, y, test_size = 0.25, random_state= 42)\n",
    "model = SVC(kernel='linear', C = 0.01)\n",
    "model.fit(X_train, y_train)\n",
    "pred = model.predict_proba(X_test)[:,1]\n",
    "roc_auc_score(y_test, pred)"
   ]
  },
  {
   "cell_type": "code",
   "execution_count": null,
   "metadata": {
    "colab": {
     "base_uri": "https://localhost:8080/",
     "height": 435
    },
    "id": "LlDJSKAVDxY_",
    "outputId": "49308798-74a0-43f0-f3ee-4e1d6f9644ff"
   },
   "outputs": [],
   "source": [
    "from sklearn.metrics import roc_curve, auc\n",
    "fpr, tpr, threshold = roc_curve(y_test, pred)\n",
    "roc_auc = auc(fpr, tpr)\n",
    "plt.plot(fpr, tpr, 'b')\n",
    "plt.plot([0,1], [0,1], 'r--')\n",
    "plt.xlim([0,1])\n",
    "plt.ylim([0,1])\n",
    "plt.show()"
   ]
  }
 ],
 "metadata": {
  "colab": {
   "provenance": []
  },
  "kernelspec": {
   "display_name": "Python 3 (ipykernel)",
   "language": "python",
   "name": "python3"
  },
  "language_info": {
   "codemirror_mode": {
    "name": "ipython",
    "version": 3
   },
   "file_extension": ".py",
   "mimetype": "text/x-python",
   "name": "python",
   "nbconvert_exporter": "python",
   "pygments_lexer": "ipython3",
   "version": "3.11.9"
  }
 },
 "nbformat": 4,
 "nbformat_minor": 4
}
