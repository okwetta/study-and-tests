{
 "cells": [
  {
   "cell_type": "code",
   "execution_count": null,
   "metadata": {
    "id": "4Irgm907fQZJ"
   },
   "outputs": [],
   "source": [
    "import numpy as np\n",
    "import pandas as pd\n",
    "from matplotlib import pyplot as plt\n",
    "\n",
    "from sklearn.preprocessing import StandardScaler\n",
    "from sklearn.model_selection import train_test_split, cross_val_score, GridSearchCV\n",
    "from sklearn.datasets import fetch_california_housing\n",
    "\n",
    "from sklearn.tree import DecisionTreeRegressor\n",
    "from sklearn.ensemble import RandomForestRegressor\n",
    "\n",
    "from sklearn.metrics import r2_score"
   ]
  },
  {
   "cell_type": "code",
   "execution_count": null,
   "metadata": {
    "id": "l9Zz_tedfWzS"
   },
   "outputs": [],
   "source": [
    "RANDOM_STATE = 42"
   ]
  },
  {
   "cell_type": "code",
   "execution_count": null,
   "metadata": {
    "id": "2ERpGXd7fW2m"
   },
   "outputs": [],
   "source": [
    "data = fetch_california_housing(as_frame=True)\n",
    "\n",
    "X = data.data\n",
    "y = data.target"
   ]
  },
  {
   "cell_type": "markdown",
   "metadata": {
    "id": "o1wQyK-VouS4"
   },
   "source": [
    "## Сравнение дерева и леса"
   ]
  },
  {
   "cell_type": "code",
   "execution_count": null,
   "metadata": {
    "colab": {
     "base_uri": "https://localhost:8080/"
    },
    "id": "bevG_CybfW6d",
    "outputId": "fab70d78-a1cc-4861-89f7-989e6ee1faff"
   },
   "outputs": [],
   "source": [
    "dt = DecisionTreeRegressor()\n",
    "\n",
    "cross_val_score(dt, X, y, cv=3, scoring='r2').mean()"
   ]
  },
  {
   "cell_type": "code",
   "execution_count": null,
   "metadata": {
    "colab": {
     "base_uri": "https://localhost:8080/"
    },
    "id": "BynDIsscgM_m",
    "outputId": "a1de8aeb-4498-477e-f1b0-ee61fbc1cd8f"
   },
   "outputs": [],
   "source": [
    "rf = RandomForestRegressor()\n",
    "\n",
    "cross_val_score(rf, X, y, cv=3, scoring='r2').mean()"
   ]
  },
  {
   "cell_type": "markdown",
   "metadata": {
    "id": "kR7QkqUbgZJ9"
   },
   "source": [
    "## Подбор гиперпараметров леса"
   ]
  },
  {
   "cell_type": "code",
   "execution_count": null,
   "metadata": {
    "id": "ZQ3DfdCsgSpf"
   },
   "outputs": [],
   "source": [
    "Xtrain, Xtest, ytrain, ytest = train_test_split(X, y, test_size=0.3, random_state=RANDOM_STATE)"
   ]
  },
  {
   "cell_type": "code",
   "execution_count": null,
   "metadata": {
    "colab": {
     "base_uri": "https://localhost:8080/"
    },
    "id": "nPvPF01rgu0d",
    "outputId": "09f2d623-42d7-4b7d-d05e-aad529b73af5"
   },
   "outputs": [],
   "source": [
    "params = {'n_estimators': np.arange(10, 200, 20),\n",
    "          'max_depth': np.arange(2, 20, 3)}\n",
    "\n",
    "gs = GridSearchCV(RandomForestRegressor(), params, cv=3, scoring='r2', verbose=2)\n",
    "\n",
    "gs.fit(Xtrain, ytrain)"
   ]
  },
  {
   "cell_type": "code",
   "execution_count": null,
   "metadata": {
    "colab": {
     "base_uri": "https://localhost:8080/"
    },
    "id": "ESqrgsg_i7ME",
    "outputId": "c0f7e2c9-e1bd-43c1-8c2a-00101adef84a"
   },
   "outputs": [],
   "source": [
    "gs.best_score_, gs.best_estimator_"
   ]
  },
  {
   "cell_type": "code",
   "execution_count": null,
   "metadata": {
    "colab": {
     "base_uri": "https://localhost:8080/"
    },
    "id": "g2KbNpCekLHq",
    "outputId": "b07c14e4-0d3d-4f32-dfc9-f05f4d645864"
   },
   "outputs": [],
   "source": [
    "params = {'max_features': [None, 'sqrt', 'log2']}\n",
    "\n",
    "gs = GridSearchCV(RandomForestRegressor(n_estimators = 190, max_depth = 17), params, cv=3, scoring='r2', verbose=2)\n",
    "\n",
    "gs.fit(Xtrain, ytrain)"
   ]
  },
  {
   "cell_type": "code",
   "execution_count": null,
   "metadata": {
    "colab": {
     "base_uri": "https://localhost:8080/"
    },
    "id": "CGn2GfJhkiC7",
    "outputId": "2e332212-2e45-4d4a-fef9-2bb76217a198"
   },
   "outputs": [],
   "source": [
    "gs.best_score_, gs.best_estimator_"
   ]
  },
  {
   "cell_type": "markdown",
   "metadata": {
    "id": "bQRD6H3TmljZ"
   },
   "source": [
    "Теперь проверим полученную модель на тестовых данных"
   ]
  },
  {
   "cell_type": "code",
   "execution_count": null,
   "metadata": {
    "colab": {
     "base_uri": "https://localhost:8080/"
    },
    "id": "XquzSpNpmrKi",
    "outputId": "37c7bec4-0f6c-4e9a-e4b6-d3e482b1c973"
   },
   "outputs": [],
   "source": [
    "model = RandomForestRegressor(n_estimators = 190, max_depth = 17, max_features='log2')\n",
    "\n",
    "model.fit(Xtrain, ytrain)\n",
    "\n",
    "pred = model.predict(Xtest)\n",
    "\n",
    "r2_score(ytest, pred)"
   ]
  },
  {
   "cell_type": "markdown",
   "metadata": {
    "id": "7j9ChZOaknF0"
   },
   "source": [
    "## Поведение модели при увеличении числа деревьев"
   ]
  },
  {
   "cell_type": "code",
   "execution_count": null,
   "metadata": {
    "colab": {
     "base_uri": "https://localhost:8080/",
     "height": 317
    },
    "id": "_wGarqpFk0Yz",
    "outputId": "b4ce3ec4-f4d6-4e57-b011-91fb02963c00"
   },
   "outputs": [],
   "source": [
    "r2_train = []\n",
    "r2_test = []\n",
    "\n",
    "for n in range(2, 50, 5):\n",
    "    model = RandomForestRegressor(n_estimators = n, n_jobs=-1)\n",
    "    model.fit(Xtrain, ytrain)\n",
    "\n",
    "    pred_train = model.predict(Xtrain)\n",
    "    pred_test = model.predict(Xtest)\n",
    "\n",
    "    r2_train.append(r2_score(ytrain, pred_train))\n",
    "    r2_test.append(r2_score(ytest, pred_test))\n",
    "\n",
    "plt.plot(r2_train, color='blue')\n",
    "plt.plot(r2_test, color='red')\n",
    "plt.xlabel('iteration')\n",
    "plt.ylabel('r2')"
   ]
  }
 ],
 "metadata": {
  "colab": {
   "provenance": []
  },
  "kernelspec": {
   "display_name": "Python 3 (ipykernel)",
   "language": "python",
   "name": "python3"
  },
  "language_info": {
   "codemirror_mode": {
    "name": "ipython",
    "version": 3
   },
   "file_extension": ".py",
   "mimetype": "text/x-python",
   "name": "python",
   "nbconvert_exporter": "python",
   "pygments_lexer": "ipython3",
   "version": "3.11.9"
  }
 },
 "nbformat": 4,
 "nbformat_minor": 4
}
