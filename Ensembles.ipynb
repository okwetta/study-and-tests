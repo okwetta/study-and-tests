{
 "cells": [
  {
   "cell_type": "code",
   "execution_count": null,
   "metadata": {
    "id": "bClRKg_6ztrN"
   },
   "outputs": [],
   "source": [
    "import numpy as np\n",
    "import pandas as pd\n",
    "import matplotlib as plt\n",
    "from sklearn.model_selection import cross_val_score, GridSearchCV, train_test_split\n",
    "\n",
    "from sklearn.tree import DecisionTreeClassifier\n",
    "from sklearn.ensemble import RandomForestClassifier, GradientBoostingClassifier\n",
    "\n",
    "from sklearn.metrics import roc_auc_score"
   ]
  },
  {
   "cell_type": "code",
   "execution_count": null,
   "metadata": {
    "id": "olCOB9B252qv"
   },
   "outputs": [],
   "source": [
    "RANDOM_STATE = 111\n",
    "DATASET_PATH = 'https://raw.githubusercontent.com/evgpat/edu_stepik_practical_ml/main/datasets/flight_delays_train.csv'"
   ]
  },
  {
   "cell_type": "code",
   "execution_count": null,
   "metadata": {
    "id": "jRLI7igdzEBc"
   },
   "outputs": [],
   "source": [
    "data = pd.read_csv(DATASET_PATH)\n",
    "print(data)"
   ]
  },
  {
   "cell_type": "markdown",
   "metadata": {
    "id": "ny1TeYVM35nK"
   },
   "source": [
    "## Обучение моделей"
   ]
  },
  {
   "cell_type": "code",
   "execution_count": null,
   "metadata": {
    "id": "upSiQPChzXeJ"
   },
   "outputs": [],
   "source": [
    "X = data[['DepTime', 'Distance']]\n",
    "y = data['dep_delayed_15min'].map({'Y': 1, 'N': 0})\n",
    "print(X)"
   ]
  },
  {
   "cell_type": "code",
   "execution_count": null,
   "metadata": {
    "id": "gRLMQgm62s5o"
   },
   "outputs": [],
   "source": [
    "dt = DecisionTreeClassifier()\n",
    "\n",
    "cross_val_score(dt, X, y, cv=3, scoring='roc_auc').mean()"
   ]
  },
  {
   "cell_type": "code",
   "execution_count": null,
   "metadata": {},
   "outputs": [],
   "source": [
    "rf = RandomForestClassifier()\n",
    "\n",
    "cross_val_score(rf, X, y, cv=3, scoring='roc_auc').mean()"
   ]
  },
  {
   "cell_type": "code",
   "execution_count": null,
   "metadata": {},
   "outputs": [],
   "source": [
    "gb = GradientBoostingClassifier()\n",
    "\n",
    "cross_val_score(gb, X, y, cv=3, scoring='roc_auc').mean()"
   ]
  },
  {
   "cell_type": "markdown",
   "metadata": {
    "id": "g3e-yghf-9XN"
   },
   "source": [
    "Выведем *bias* и *variance* каждой из моделей при помощи `bias_variance_decomp` из библиотеки `mlxtend`. Функция на вход ожидает получения тренировочных и тестовых данных, поэтому разобъем все данные на train и test."
   ]
  },
  {
   "cell_type": "code",
   "execution_count": null,
   "metadata": {
    "id": "j0o53a2G_F3k"
   },
   "outputs": [],
   "source": [
    "!pip install mlxtend --upgrade"
   ]
  },
  {
   "cell_type": "code",
   "execution_count": null,
   "metadata": {
    "id": "ui5d6WsM_E1z"
   },
   "outputs": [],
   "source": [
    "Xtrain, Xtest, ytrain, ytest = train_test_split(X, y, test_size=0.25, random_state=RANDOM_STATE)"
   ]
  },
  {
   "cell_type": "code",
   "execution_count": null,
   "metadata": {
    "id": "glOK8qNz_NWG"
   },
   "outputs": [],
   "source": [
    "from mlxtend.evaluate import bias_variance_decomp\n",
    "\n",
    "avg_var = bias_variance_decomp(dt, Xtrain[:1000].values, ytrain[:1000].values,\n",
    "                                                  Xtest.values, ytest.values, loss = '0-1_loss',\n",
    "                                                  random_seed=np.random.seed(RANDOM_STATE), num_rounds = 50)\n",
    "avg_bias = bias_variance_decomp(dt, Xtrain[:1000].values, ytrain[:1000].values,\n",
    "                                                  Xtest.values, ytest.values, loss = '0-1_loss',\n",
    "                                                  random_seed=np.random.seed(RANDOM_STATE), num_rounds = 50)\n",
    "print(avg_var)\n",
    "print(avg_bias)"
   ]
  },
  {
   "cell_type": "code",
   "execution_count": null,
   "metadata": {},
   "outputs": [],
   "source": [
    "from mlxtend.evaluate import bias_variance_decomp\n",
    "\n",
    "avg_var = bias_variance_decomp(rf, Xtrain[:1000].values, ytrain[:1000].values,\n",
    "                                                  Xtest.values, ytest.values, loss = '0-1_loss',\n",
    "                                                  random_seed=np.random.seed(RANDOM_STATE), num_rounds = 50)\n",
    "avg_bias = bias_variance_decomp(rf, Xtrain[:1000].values, ytrain[:1000].values,\n",
    "                                                  Xtest.values, ytest.values, loss = '0-1_loss',\n",
    "                                                  random_seed=np.random.seed(RANDOM_STATE), num_rounds = 50)\n",
    "print(avg_var)\n",
    "print(avg_bias)"
   ]
  },
  {
   "cell_type": "code",
   "execution_count": null,
   "metadata": {},
   "outputs": [],
   "source": [
    "from mlxtend.evaluate import bias_variance_decomp\n",
    "\n",
    "avg_var = bias_variance_decomp(gb, Xtrain[:1000].values, ytrain[:1000].values,\n",
    "                                                  Xtest.values, ytest.values, loss = '0-1_loss',\n",
    "                                                  random_seed=np.random.seed(RANDOM_STATE), num_rounds = 50)\n",
    "avg_bias = bias_variance_decomp(gb, Xtrain[:1000].values, ytrain[:1000].values,\n",
    "                                                  Xtest.values, ytest.values, loss = '0-1_loss',\n",
    "                                                  random_seed=np.random.seed(RANDOM_STATE), num_rounds = 50)\n",
    "print(avg_var)\n",
    "print(avg_bias)"
   ]
  },
  {
   "cell_type": "markdown",
   "metadata": {
    "id": "hCL5kxZZ5W_h"
   },
   "source": [
    "## Подбор гиперпараметров"
   ]
  },
  {
   "cell_type": "markdown",
   "metadata": {
    "id": "kzxlQxYT57Et"
   },
   "source": [
    "### Гиперпараметры для решающего дерева"
   ]
  },
  {
   "cell_type": "code",
   "execution_count": null,
   "metadata": {
    "id": "BBGwiza75yX_"
   },
   "outputs": [],
   "source": [
    "params = {'max_depth': np.arange(2, 30, 3),\n",
    "         'max_features': np.arange(2, 12, 3),\n",
    "         'criterion': ('gini', 'entropy', 'log_loss'),\n",
    "         'min_samples_split': np.arange(1, 5, 1),\n",
    "         'min_samples_leaf': np.arange(1, 5, 1)}\n",
    "\n",
    "gs = GridSearchCV(dt, params, cv=3, scoring='roc_auc', verbose=1)\n",
    "\n",
    "gs.fit(Xtrain[:10000], ytrain[:10000])"
   ]
  },
  {
   "cell_type": "markdown",
   "metadata": {
    "id": "wG7rv-ua7Bdx"
   },
   "source": [
    "Теперь обучите на **всех** тренировочных данных решающее дерево с лучшими  \n",
    "найденными гиперпараметрами и выведите *ROC-AUC* на тесте."
   ]
  },
  {
   "cell_type": "code",
   "execution_count": null,
   "metadata": {
    "id": "AkScz7ss6m1d"
   },
   "outputs": [],
   "source": [
    "modeldt = DecisionTreeClassifier(**gs.best_params_)\n",
    "\n",
    "modeldt.fit(Xtrain, ytrain)\n",
    "\n",
    "pred = modeldt.predict_proba(Xtest)[:, 1]\n",
    "roc_auc_score(ytest, pred)"
   ]
  },
  {
   "cell_type": "markdown",
   "metadata": {
    "id": "9gODYH-Q7ga9"
   },
   "source": [
    "### Гиперпараметры для случайного леса:"
   ]
  },
  {
   "cell_type": "code",
   "execution_count": null,
   "metadata": {
    "id": "mPpOkJgU7bts"
   },
   "outputs": [],
   "source": [
    "params = {'n_estimators': np.arange(10, 200, 20),\n",
    "          'max_depth': np.arange(2, 30, 3),\n",
    "         'max_features': np.arange(2, 12, 3),\n",
    "         'criterion': ('gini', 'entropy', 'log_loss'),\n",
    "         'min_samples_split': np.arange(1, 5, 1),\n",
    "         'min_samples_leaf': np.arange(1, 5, 1)}\n",
    "\n",
    "gsrf = GridSearchCV(rf, params, cv=3, scoring='roc_auc', verbose=1)\n",
    "\n",
    "gsrf.fit(Xtrain[:10000], ytrain[:10000])"
   ]
  },
  {
   "cell_type": "code",
   "execution_count": null,
   "metadata": {
    "id": "O8VsT8kY9JFL"
   },
   "outputs": [],
   "source": [
    "modelrf = RandomForestClassifier(**gsrf.best_params_)\n",
    "\n",
    "modelrf.fit(Xtrain, ytrain)\n",
    "\n",
    "pred = modelrf.predict_proba(Xtest)[:, 1]\n",
    "roc_auc_score(ytest, pred)"
   ]
  },
  {
   "cell_type": "markdown",
   "metadata": {
    "id": "-MSkBA2UERWl"
   },
   "source": [
    "### Гиперпараметры для градиентного бустинга:"
   ]
  },
  {
   "cell_type": "code",
   "execution_count": null,
   "metadata": {
    "id": "ZNr7l5mq-nxx"
   },
   "outputs": [],
   "source": [
    "params = {'n_estimators': np.arange(10, 200, 20),\n",
    "          'max_depth': np.arange(2, 30, 3),\n",
    "         'max_features': np.arange(2, 12, 3),\n",
    "         'criterion': ('gini', 'entropy', 'log_loss'),\n",
    "         'min_samples_split': np.arange(1, 5, 1),\n",
    "         'min_samples_leaf': np.arange(1, 5, 1)}\n",
    "\n",
    "gsgb = GridSearchCV(gb, params, cv=3, scoring='roc_auc', verbose=1)\n",
    "\n",
    "gsgb.fit(Xtrain[:10000], ytrain[:10000])"
   ]
  },
  {
   "cell_type": "markdown",
   "metadata": {
    "id": "8kqeJG7-Es9S"
   },
   "source": [
    "Теперь обучите на **всех** тренировочных данных градиентный бустинг с лучшими  \n",
    "найденными гиперпараметрами и выведите *ROC-AUC* на тесте."
   ]
  },
  {
   "cell_type": "code",
   "execution_count": null,
   "metadata": {
    "id": "dQJplX3GEvxS"
   },
   "outputs": [],
   "source": [
    "modelgb = GradientBoostingClassifier(**gsgb.best_params_)\n",
    "\n",
    "modelgb.fit(Xtrain, ytrain)\n",
    "\n",
    "pred = modelgb.predict_proba(Xtest)[:, 1]\n",
    "roc_auc_score(ytest, pred)"
   ]
  },
  {
   "cell_type": "markdown",
   "metadata": {
    "id": "Us3cj9GiGitb"
   },
   "source": [
    "## Размышления\n",
    "\n",
    "Мы использовали для обучения очень много объектов и очень мало признаков, поэтому ансамбли моделей не смогли себя показать в полную мощь. Если задействовать больше характеристик полета, то и качество моделей может стать выше."
   ]
  },
  {
   "cell_type": "markdown",
   "metadata": {
    "id": "xvVM33UbqLG6"
   },
   "source": [
    "# Улучшение модели"
   ]
  },
  {
   "cell_type": "code",
   "execution_count": null,
   "metadata": {
    "id": "DEo5nFaHaobS"
   },
   "outputs": [],
   "source": [
    "data['dep_delayed_15min'] = data['dep_delayed_15min'].map({'Y' : 1, 'N' : 0})"
   ]
  },
  {
   "cell_type": "code",
   "execution_count": null,
   "metadata": {
    "id": "14oWhtYSlTgo"
   },
   "outputs": [],
   "source": [
    "data['Month'] = data['Month'].apply(lambda x: int(x.split('-')[1]))\n",
    "\n",
    "print('average:', data['dep_delayed_15min'].mean())\n",
    "\n",
    "data.groupby('Month')['dep_delayed_15min'].mean()"
   ]
  },
  {
   "cell_type": "code",
   "execution_count": null,
   "metadata": {
    "id": "0xLxGtd8cNL-"
   },
   "outputs": [],
   "source": [
    "print('average:', data['dep_delayed_15min'].mean())\n",
    "\n",
    "data.groupby('UniqueCarrier').agg({\"dep_delayed_15min\": [\"mean\", \"count\"]})"
   ]
  },
  {
   "cell_type": "code",
   "execution_count": null,
   "metadata": {
    "id": "KbB9KYK0chZl"
   },
   "outputs": [],
   "source": [
    "X = data[['Month','UniqueCarrier','DepTime','Distance']]\n",
    "y = data['dep_delayed_15min']\n",
    "\n",
    "X = pd.get_dummies(X, columns=['UniqueCarrier'], drop_first=True) # drop_first=True - выкидываем один столбец, чтобы избежать линейной зависимости\n",
    "X.head()"
   ]
  },
  {
   "cell_type": "code",
   "execution_count": null,
   "metadata": {
    "id": "j3x5d75CYnoM"
   },
   "outputs": [],
   "source": [
    "print('Decision Tree:', cross_val_score(DecisionTreeClassifier(), X, y, cv=3, scoring='roc_auc').mean())\n",
    "print('Random Forest:', cross_val_score(RandomForestClassifier(), X, y, cv=3, scoring='roc_auc').mean())\n",
    "print('Gradient Boosting:', cross_val_score(GradientBoostingClassifier(), X, y, cv=3, scoring='roc_auc').mean())"
   ]
  },
  {
   "cell_type": "code",
   "execution_count": null,
   "metadata": {
    "id": "hj8c0-hmdOxT"
   },
   "outputs": [],
   "source": [
    "Xtrain, Xtest, ytrain, ytest = train_test_split(X, y, test_size=0.25, random_state=RANDOM_STATE)"
   ]
  },
  {
   "cell_type": "markdown",
   "metadata": {
    "id": "lahlRgtrfmL4"
   },
   "source": [
    "### Оптимальные гиперпараметры для Decision Tree."
   ]
  },
  {
   "cell_type": "code",
   "execution_count": null,
   "metadata": {
    "id": "RyagWP9gfZsX"
   },
   "outputs": [],
   "source": [
    "params = {'max_depth': np.arange(2, 30, 3),\n",
    "         'max_features': np.arange(2, 12, 3),\n",
    "         'criterion': ('gini', 'entropy', 'log_loss'),\n",
    "         'min_samples_split': np.arange(1, 5, 1),\n",
    "         'min_samples_leaf': np.arange(1, 5, 1)}\n",
    "\n",
    "gs = GridSearchCV(dt, params, cv=3, scoring='roc_auc', verbose=1)\n",
    "\n",
    "gs.fit(Xtrain, ytrain)"
   ]
  },
  {
   "cell_type": "code",
   "execution_count": null,
   "metadata": {
    "id": "5u64md_vf5Ma"
   },
   "outputs": [],
   "source": [
    "modeldt = DecisionTreeClassifier(**gs.best_params_)\n",
    "\n",
    "modeldt.fit(Xtrain, ytrain)\n",
    "\n",
    "pred = modeldt.predict_proba(Xtest)[:, 1]\n",
    "roc_auc_score(ytest, pred)"
   ]
  },
  {
   "cell_type": "markdown",
   "metadata": {},
   "source": [
    "### Оптимальные гиперпараметры для RandomForest."
   ]
  },
  {
   "cell_type": "code",
   "execution_count": null,
   "metadata": {
    "id": "ZEiU1nA1fsty"
   },
   "outputs": [],
   "source": [
    "params = {'n_estimators': np.arange(10, 200, 20),\n",
    "          'max_depth': np.arange(2, 30, 3),\n",
    "         'max_features': np.arange(2, 12, 3),\n",
    "         'criterion': ('gini', 'entropy', 'log_loss'),\n",
    "         'min_samples_split': np.arange(1, 5, 1),\n",
    "         'min_samples_leaf': np.arange(1, 5, 1)}\n",
    "\n",
    "gsrf = GridSearchCV(rf, params, cv=3, scoring='roc_auc', verbose=1)\n",
    "\n",
    "gsrf.fit(Xtrain, ytrain)"
   ]
  },
  {
   "cell_type": "code",
   "execution_count": null,
   "metadata": {
    "id": "AFS0Uh4Sg66K"
   },
   "outputs": [],
   "source": [
    "modelrf = RandomForestClassifier(**gsrf.best_params_)\n",
    "\n",
    "modelrf.fit(Xtrain, ytrain)\n",
    "\n",
    "pred = modelrf.predict_proba(Xtest)[:, 1]\n",
    "roc_auc_score(ytest, pred)"
   ]
  },
  {
   "cell_type": "markdown",
   "metadata": {
    "id": "GEMTkmLWoqAa"
   },
   "source": [
    "### Оптимальные гиперпараметры для GradientBoosting."
   ]
  },
  {
   "cell_type": "code",
   "execution_count": null,
   "metadata": {
    "id": "OM3JcgxIhDKy"
   },
   "outputs": [],
   "source": [
    "params = {'n_estimators': np.arange(10, 200, 20),\n",
    "          'max_depth': np.arange(2, 30, 3),\n",
    "         'max_features': np.arange(2, 12, 3),\n",
    "         'criterion': ('gini', 'entropy', 'log_loss'),\n",
    "         'min_samples_split': np.arange(1, 5, 1),\n",
    "         'min_samples_leaf': np.arange(1, 5, 1)}\n",
    "\n",
    "gsgb = GridSearchCV(gb, params, cv=3, scoring='roc_auc', verbose=1)\n",
    "\n",
    "gsgb.fit(Xtrain, ytrain)"
   ]
  },
  {
   "cell_type": "code",
   "execution_count": null,
   "metadata": {
    "id": "i5uo-kFnkSbw"
   },
   "outputs": [],
   "source": [
    "modelgb = GradientBoostingClassifier(**gsgb.best_params_)\n",
    "\n",
    "modelgb.fit(Xtrain, ytrain)\n",
    "\n",
    "pred = modelgb.predict_proba(Xtest)[:, 1]\n",
    "roc_auc_score(ytest, pred)"
   ]
  },
  {
   "cell_type": "markdown",
   "metadata": {
    "id": "qDT0kOHbqrAp"
   },
   "source": [
    "Посмотрим на важность признаков у полученного бустинга."
   ]
  },
  {
   "cell_type": "code",
   "execution_count": null,
   "metadata": {
    "id": "4VJq2LNQkYp9"
   },
   "outputs": [],
   "source": [
    "importances = modelgb.feature_importances_\n",
    "indices = np.argsort(importances)\n",
    "\n",
    "plt.figure()\n",
    "plt.title(\"Feature importances\")\n",
    "plt.bar(range(len(modelgb.feature_importances_)), modelgb.feature_importances_)\n",
    "plt.xticks(range(len(modelgb.feature_importances_)), X.columns, rotation='vertical')\n",
    "plt.show()"
   ]
  }
 ],
 "metadata": {
  "colab": {
   "provenance": []
  },
  "kernelspec": {
   "display_name": "Python 3 (ipykernel)",
   "language": "python",
   "name": "python3"
  },
  "language_info": {
   "codemirror_mode": {
    "name": "ipython",
    "version": 3
   },
   "file_extension": ".py",
   "mimetype": "text/x-python",
   "name": "python",
   "nbconvert_exporter": "python",
   "pygments_lexer": "ipython3",
   "version": "3.11.9"
  }
 },
 "nbformat": 4,
 "nbformat_minor": 4
}
