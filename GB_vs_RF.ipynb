{
 "cells": [
  {
   "cell_type": "code",
   "execution_count": null,
   "metadata": {
    "id": "4Irgm907fQZJ"
   },
   "outputs": [],
   "source": [
    "import numpy as np\n",
    "import pandas as pd\n",
    "from matplotlib import pyplot as plt\n",
    "\n",
    "from sklearn.preprocessing import StandardScaler\n",
    "from sklearn.model_selection import train_test_split, cross_val_score, GridSearchCV\n",
    "from sklearn.datasets import fetch_california_housing\n",
    "\n",
    "from sklearn.ensemble import RandomForestRegressor, GradientBoostingRegressor\n",
    "\n",
    "from sklearn.metrics import r2_score"
   ]
  },
  {
   "cell_type": "code",
   "execution_count": null,
   "metadata": {
    "id": "l9Zz_tedfWzS"
   },
   "outputs": [],
   "source": [
    "RANDOM_STATE = 42"
   ]
  },
  {
   "cell_type": "code",
   "execution_count": null,
   "metadata": {
    "id": "2ERpGXd7fW2m"
   },
   "outputs": [],
   "source": [
    "data = fetch_california_housing(as_frame=True)\n",
    "\n",
    "X = data.data\n",
    "y = data.target"
   ]
  },
  {
   "cell_type": "markdown",
   "metadata": {
    "id": "o1wQyK-VouS4"
   },
   "source": [
    "## Сравнение дерева и леса"
   ]
  },
  {
   "cell_type": "code",
   "execution_count": null,
   "metadata": {
    "colab": {
     "base_uri": "https://localhost:8080/"
    },
    "id": "bevG_CybfW6d",
    "outputId": "0c9d7330-2052-4df8-f1bd-92e9b563245d"
   },
   "outputs": [],
   "source": [
    "rf = RandomForestRegressor()\n",
    "\n",
    "cross_val_score(rf, X, y, cv=3, scoring='r2').mean()"
   ]
  },
  {
   "cell_type": "code",
   "execution_count": null,
   "metadata": {
    "colab": {
     "base_uri": "https://localhost:8080/"
    },
    "id": "BynDIsscgM_m",
    "outputId": "e1ad1143-c62f-4a98-ab7e-d64a3ccee095"
   },
   "outputs": [],
   "source": [
    "gb = GradientBoostingRegressor()\n",
    "\n",
    "cross_val_score(gb, X, y, cv=3, scoring='r2').mean()"
   ]
  },
  {
   "cell_type": "markdown",
   "metadata": {
    "id": "kR7QkqUbgZJ9"
   },
   "source": [
    "## Подбор гиперпараметров бустинга"
   ]
  },
  {
   "cell_type": "code",
   "execution_count": null,
   "metadata": {
    "id": "ZQ3DfdCsgSpf"
   },
   "outputs": [],
   "source": [
    "Xtrain, Xtest, ytrain, ytest = train_test_split(X, y, test_size=0.3, random_state=RANDOM_STATE)"
   ]
  },
  {
   "cell_type": "code",
   "execution_count": null,
   "metadata": {
    "colab": {
     "base_uri": "https://localhost:8080/"
    },
    "id": "nPvPF01rgu0d",
    "outputId": "2e27df9f-7d02-4bce-ad0b-6551b45ef241"
   },
   "outputs": [],
   "source": [
    "params = {'n_estimators': np.arange(10, 200, 20),\n",
    "          'max_depth': np.arange(2, 20, 3)}\n",
    "\n",
    "gs = GridSearchCV(GradientBoostingRegressor(), params, cv=3, scoring='r2', verbose=2)\n",
    "\n",
    "gs.fit(Xtrain, ytrain)"
   ]
  },
  {
   "cell_type": "code",
   "execution_count": null,
   "metadata": {
    "colab": {
     "base_uri": "https://localhost:8080/"
    },
    "id": "ESqrgsg_i7ME",
    "outputId": "4441767c-facb-478e-8d2b-149a4ebfba59"
   },
   "outputs": [],
   "source": [
    "gs.best_score_, gs.best_estimator_"
   ]
  },
  {
   "cell_type": "code",
   "execution_count": null,
   "metadata": {
    "colab": {
     "base_uri": "https://localhost:8080/"
    },
    "id": "g2KbNpCekLHq",
    "outputId": "c63d1a97-5062-4249-9853-a0446d3accde"
   },
   "outputs": [],
   "source": [
    "params = {'max_features': [None, 'sqrt', 'log2']}\n",
    "\n",
    "gs = GridSearchCV(GradientBoostingRegressor(n_estimators = 170, max_depth = 8), params, cv=3, scoring='r2', verbose=2)\n",
    "\n",
    "gs.fit(Xtrain, ytrain)"
   ]
  },
  {
   "cell_type": "code",
   "execution_count": null,
   "metadata": {
    "colab": {
     "base_uri": "https://localhost:8080/"
    },
    "id": "CGn2GfJhkiC7",
    "outputId": "3c09c928-78af-4ed1-f29b-e839181489a0"
   },
   "outputs": [],
   "source": [
    "gs.best_score_, gs.best_estimator_"
   ]
  },
  {
   "cell_type": "markdown",
   "metadata": {
    "id": "bQRD6H3TmljZ"
   },
   "source": [
    "Теперь проверим полученную модель на тестовых данных"
   ]
  },
  {
   "cell_type": "code",
   "execution_count": null,
   "metadata": {
    "colab": {
     "base_uri": "https://localhost:8080/"
    },
    "id": "RlZ2UThov-Zf",
    "outputId": "c21c4073-7845-4bac-bc43-2c550c5ff82b"
   },
   "outputs": [],
   "source": [
    "model = GradientBoostingRegressor(n_estimators = 170, learning_rate = 0.1, max_depth = 8, max_features='log2')\n",
    "\n",
    "model.fit(Xtrain, ytrain)\n",
    "\n",
    "pred = model.predict(Xtest)\n",
    "\n",
    "r2_score(ytest, pred)"
   ]
  },
  {
   "cell_type": "markdown",
   "metadata": {
    "id": "7j9ChZOaknF0"
   },
   "source": [
    "## Поведение модели при увеличении числа деревьев"
   ]
  },
  {
   "cell_type": "code",
   "execution_count": null,
   "metadata": {
    "colab": {
     "base_uri": "https://localhost:8080/",
     "height": 296
    },
    "id": "_wGarqpFk0Yz",
    "outputId": "29ffe4a2-28be-4466-d670-c8d1211b74a0"
   },
   "outputs": [],
   "source": [
    "r2_train = []\n",
    "r2_test = []\n",
    "\n",
    "for n in range(2, 300, 20):\n",
    "    model = GradientBoostingRegressor(n_estimators = n, max_depth = 20)\n",
    "    model.fit(Xtrain, ytrain)\n",
    "\n",
    "    pred_train = model.predict(Xtrain)\n",
    "    pred_test = model.predict(Xtest)\n",
    "\n",
    "    r2_train.append(r2_score(ytrain, pred_train))\n",
    "    r2_test.append(r2_score(ytest, pred_test))\n",
    "\n",
    "plt.plot(r2_train, color='blue')\n",
    "plt.plot(r2_test, color='red')\n",
    "plt.xlabel('iteration')\n",
    "plt.ylabel('r2')"
   ]
  },
  {
   "cell_type": "markdown",
   "metadata": {
    "id": "UTXWz7HWoWEs"
   },
   "source": [
    "Эти графики подтверждают теорию: при увеличении числа деревьев в бустинге качество на тренировочных данных сначала растет, а потом начинает уменьшаться (так как начинается переобучение).Поэтому на практике необходимо подобрать такое число деревьев, при котором качество на тестовых данных максимальное (и больше деревьев не брать!). В этом одно из важных отличий бустинга от леса."
   ]
  }
 ],
 "metadata": {
  "colab": {
   "provenance": []
  },
  "kernelspec": {
   "display_name": "Python 3 (ipykernel)",
   "language": "python",
   "name": "python3"
  },
  "language_info": {
   "codemirror_mode": {
    "name": "ipython",
    "version": 3
   },
   "file_extension": ".py",
   "mimetype": "text/x-python",
   "name": "python",
   "nbconvert_exporter": "python",
   "pygments_lexer": "ipython3",
   "version": "3.11.9"
  }
 },
 "nbformat": 4,
 "nbformat_minor": 4
}
