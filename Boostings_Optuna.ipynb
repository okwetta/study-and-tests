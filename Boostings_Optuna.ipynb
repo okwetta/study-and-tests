{
 "cells": [
  {
   "cell_type": "code",
   "execution_count": null,
   "metadata": {
    "id": "DARqocv0wz0z"
   },
   "outputs": [],
   "source": [
    "!pip install catboost lightgbm optuna -q"
   ]
  },
  {
   "cell_type": "code",
   "execution_count": null,
   "metadata": {
    "colab": {
     "base_uri": "https://localhost:8080/"
    },
    "id": "U-gc09zSwvyF",
    "outputId": "65829f4a-47ef-40ca-eecd-65857078f18f"
   },
   "outputs": [],
   "source": [
    "from sklearn.model_selection import train_test_split, cross_val_score\n",
    "from sklearn.metrics import roc_auc_score\n",
    "import pandas as pd\n",
    "import numpy as np\n",
    "import optuna\n",
    "\n",
    "from catboost import CatBoostClassifier\n",
    "from lightgbm import LGBMClassifier"
   ]
  },
  {
   "cell_type": "code",
   "execution_count": null,
   "metadata": {
    "id": "C4LFGZPXweF2"
   },
   "outputs": [],
   "source": [
    "RANDOM_STATE = 111\n",
    "DATASET_PATH = 'https://raw.githubusercontent.com/evgpat/edu_stepik_practical_ml/main/datasets/flight_delays_train.csv'"
   ]
  },
  {
   "cell_type": "code",
   "execution_count": null,
   "metadata": {
    "colab": {
     "base_uri": "https://localhost:8080/",
     "height": 206
    },
    "id": "m788vNOUxBNU",
    "outputId": "ea8bf8c5-cb49-434b-c7b6-6b6f0c1064d6"
   },
   "outputs": [],
   "source": [
    "data = pd.read_csv(DATASET_PATH)\n",
    "\n",
    "X = data.drop('dep_delayed_15min', axis=1)\n",
    "y = data['dep_delayed_15min'] == 'Y'\n",
    "\n",
    "\n",
    "X.head()"
   ]
  },
  {
   "cell_type": "code",
   "execution_count": null,
   "metadata": {
    "id": "f2_RDMSdxgtC"
   },
   "outputs": [],
   "source": [
    "cat_features = np.where(X.dtypes == object)[0]"
   ]
  },
  {
   "cell_type": "code",
   "execution_count": null,
   "metadata": {
    "id": "b5hPnUwvwu_Z"
   },
   "outputs": [],
   "source": [
    "Xtrain, Xtest, ytrain, ytest = train_test_split(X, y, test_size=0.25, random_state=RANDOM_STATE)"
   ]
  },
  {
   "cell_type": "markdown",
   "metadata": {
    "id": "8E9ZC9UXymeu"
   },
   "source": [
    "## Модели с параметрами по умолчанию"
   ]
  },
  {
   "cell_type": "code",
   "execution_count": null,
   "metadata": {
    "colab": {
     "base_uri": "https://localhost:8080/"
    },
    "id": "vdjpjT1Gw8ff",
    "outputId": "25932c5d-b2ad-4e72-a4b7-b725a08cb018"
   },
   "outputs": [],
   "source": [
    "model = CatBoostClassifier()\n",
    "model.fit(Xtrain, ytrain, cat_features = cat_features)\n",
    "\n",
    "pred = model.predict_proba(Xtest)[:, 1]\n",
    "\n",
    "roc_auc_score(ytest, pred)"
   ]
  },
  {
   "cell_type": "code",
   "execution_count": null,
   "metadata": {
    "colab": {
     "base_uri": "https://localhost:8080/"
    },
    "id": "nYmM4KkVE2A0",
    "outputId": "aab9ce96-fdfc-4bf8-a2ba-9dc5232ee5e5"
   },
   "outputs": [],
   "source": [
    "f_import = model.get_feature_importance()\n",
    "f_names = X.columns\n",
    "for score, name in sorted(zip(f_import, f_names), reverse = True):\n",
    "  print('{}: {}'.format(name, score))"
   ]
  },
  {
   "cell_type": "code",
   "execution_count": null,
   "metadata": {
    "id": "G_g3Ead3yZ5v"
   },
   "outputs": [],
   "source": [
    "for c in X.columns:\n",
    "    col_type = X[c].dtype\n",
    "    if col_type == 'object' or col_type.name == 'category':\n",
    "        Xtrain[c] = Xtrain[c].astype('category')\n",
    "        Xtest[c] = Xtest[c].astype('category')"
   ]
  },
  {
   "cell_type": "code",
   "execution_count": null,
   "metadata": {
    "colab": {
     "base_uri": "https://localhost:8080/"
    },
    "id": "Z2jPIID3xUPw",
    "outputId": "f9e02455-a3e5-4550-8c98-d5423ada431d"
   },
   "outputs": [],
   "source": [
    "lgbm = LGBMClassifier()\n",
    "lgbm.fit(Xtrain, ytrain)\n",
    "pred = lgbm.predict_proba(Xtest)[:, 1]\n",
    "\n",
    "roc_auc_score(ytest, pred)\n"
   ]
  },
  {
   "cell_type": "markdown",
   "metadata": {
    "id": "zazHv43vzn2e"
   },
   "source": [
    "## Optuna"
   ]
  },
  {
   "cell_type": "code",
   "execution_count": null,
   "metadata": {
    "id": "meyw3CyV1aF_"
   },
   "outputs": [],
   "source": [
    "Xtrain_new, Xval, ytrain_new, yval = train_test_split(Xtrain, ytrain, test_size=0.25, random_state=RANDOM_STATE)"
   ]
  },
  {
   "cell_type": "code",
   "execution_count": null,
   "metadata": {
    "colab": {
     "base_uri": "https://localhost:8080/"
    },
    "id": "YgOH1GMFzhW1",
    "outputId": "bd7d7d86-b35d-4fa5-c1bb-f11e2dd81aa0"
   },
   "outputs": [],
   "source": [
    "def  objective_lgbm(trial):\n",
    "  num_leaves = trial.suggest_int(\"num_leaves\", 10, 100)\n",
    "  n_estimators = trial.suggest_int(\"n_estimators\", 10, 1000)\n",
    "\n",
    "  lgbm1 = LGBMClassifier(num_leaves = num_leaves, n_estimators = n_estimators)\n",
    "  lgbm1.fit(Xtrain_new, ytrain_new)\n",
    "  pred1 = lgbm1.predict_proba(Xval)[:, 1]\n",
    "\n",
    "  score = roc_auc_score(yval, pred1)\n",
    "\n",
    "\n",
    "  return score\n",
    "\n",
    "study = optuna.create_study(direction = 'maximize')\n",
    "study.optimize(objective_lgbm, n_trials = 30)\n",
    "\n"
   ]
  },
  {
   "cell_type": "code",
   "execution_count": null,
   "metadata": {
    "colab": {
     "base_uri": "https://localhost:8080/"
    },
    "id": "fpPS4-E-2Ycm",
    "outputId": "50e1732c-0b74-46e4-c64b-b9edd22d9307"
   },
   "outputs": [],
   "source": [
    "study.best_params"
   ]
  },
  {
   "cell_type": "markdown",
   "metadata": {
    "id": "VSWz4A5w7mpW"
   },
   "source": [
    "Обучим модель с найденными гиперпараметрами на Xtrain, ytrain и оценим ROC-AUC на тестовых данных."
   ]
  },
  {
   "cell_type": "code",
   "execution_count": null,
   "metadata": {
    "colab": {
     "base_uri": "https://localhost:8080/"
    },
    "id": "C2i6MY720D1Y",
    "outputId": "86b0e768-2f4c-49fa-9962-935a1708ff65"
   },
   "outputs": [],
   "source": [
    "lgbm2 = LGBMClassifier(**study.best_params)\n",
    "lgbm2.fit(Xtrain, ytrain)\n",
    "pred2 = lgbm2.predict_proba(Xtest)[:, 1]\n",
    "\n",
    "roc_auc_score(ytest, pred2)"
   ]
  }
 ],
 "metadata": {
  "colab": {
   "provenance": []
  },
  "kernelspec": {
   "display_name": "Python 3 (ipykernel)",
   "language": "python",
   "name": "python3"
  },
  "language_info": {
   "codemirror_mode": {
    "name": "ipython",
    "version": 3
   },
   "file_extension": ".py",
   "mimetype": "text/x-python",
   "name": "python",
   "nbconvert_exporter": "python",
   "pygments_lexer": "ipython3",
   "version": "3.11.9"
  }
 },
 "nbformat": 4,
 "nbformat_minor": 4
}
