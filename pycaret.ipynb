{
 "cells": [
  {
   "cell_type": "code",
   "execution_count": null,
   "id": "3a812005-474c-4a13-8302-c67d319330d6",
   "metadata": {
    "tags": []
   },
   "outputs": [],
   "source": [
    "import pandas as pd\n",
    "from sklearn.preprocessing import OneHotEncoder\n",
    "from sklearn.preprocessing import StandardScaler\n",
    "from sklearn.model_selection import train_test_split\n",
    "import numpy as np\n",
    "import matplotlib.pyplot as plt\n",
    "import mlflow\n",
    "from pycaret.regression import *"
   ]
  },
  {
   "cell_type": "code",
   "execution_count": null,
   "id": "c19b38b2-8261-4637-a317-a7f78ab992f4",
   "metadata": {
    "tags": []
   },
   "outputs": [],
   "source": [
    "data = pd.read_csv(r'autos.csv')\n",
    "data = data.drop(columns = ['DateCrawled', 'DateCreated', 'NumberOfPictures', 'PostalCode', 'LastSeen', 'RegistrationMonth'])\n",
    "data = data.drop_duplicates()\n",
    "data = data.loc[((data['Price'] != 0) & (data['Power']!= 0))]"
   ]
  },
  {
   "cell_type": "code",
   "execution_count": null,
   "id": "1ac702cd-dee9-4cc4-9c9e-ae1125e1b88c",
   "metadata": {
    "tags": []
   },
   "outputs": [],
   "source": [
    "y = data['Price']\n",
    "X = data.drop(columns = ['Price'])\n",
    "categorical_columns = X.select_dtypes(include=['object']).columns.tolist()"
   ]
  },
  {
   "cell_type": "code",
   "execution_count": null,
   "id": "07007402-69af-439a-a570-cb7ee2ce6eac",
   "metadata": {
    "tags": []
   },
   "outputs": [],
   "source": [
    "ohe = OneHotEncoder(handle_unknown='ignore', sparse_output=False)\n",
    "\n",
    "one_hot_encoded = ohe.fit_transform(X[categorical_columns])\n",
    "one_hot_X = pd.DataFrame(one_hot_encoded, columns=ohe.get_feature_names_out(categorical_columns))\n",
    "one_hot_X = one_hot_X.drop(columns = ['VehicleType_nan', 'Gearbox_nan', 'Model_nan', 'FuelType_nan', 'Repaired_nan'])\n",
    "\n",
    "scaler = StandardScaler()\n",
    "\n",
    "X_scaled = scaler.fit_transform(X.select_dtypes(exclude=['object']))\n",
    "X_scaled = pd.DataFrame(X_scaled, columns = X.select_dtypes(exclude=['object']).columns.tolist())\n",
    "\n",
    "X_preproc = pd.concat([X_scaled, one_hot_X], axis=1)\n",
    "\n"
   ]
  },
  {
   "cell_type": "code",
   "execution_count": null,
   "id": "66bec094-f37d-48cb-a5af-b86e9a6b77f2",
   "metadata": {
    "tags": []
   },
   "outputs": [],
   "source": [
    "s = setup(data=data, target=y, session_id = 123)"
   ]
  },
  {
   "cell_type": "code",
   "execution_count": null,
   "id": "95a908fd-b6e9-4ba7-94a3-93ee680a016e",
   "metadata": {
    "tags": []
   },
   "outputs": [],
   "source": [
    "best_model = compare_models()"
   ]
  },
  {
   "cell_type": "code",
   "execution_count": null,
   "id": "731130d6-9154-4e3f-8840-48b9aded786e",
   "metadata": {
    "tags": []
   },
   "outputs": [],
   "source": [
    "print(best_model)"
   ]
  },
  {
   "cell_type": "code",
   "execution_count": null,
   "id": "29f0a4db-5e5d-4341-aec2-e5a4fb683d80",
   "metadata": {
    "tags": []
   },
   "outputs": [],
   "source": [
    "tuned_model = tune_model(best_model)"
   ]
  },
  {
   "cell_type": "code",
   "execution_count": null,
   "id": "c4690cb2-f91d-4eff-99b7-34179471bb58",
   "metadata": {
    "tags": []
   },
   "outputs": [],
   "source": [
    "evaluate_model(tuned_model)"
   ]
  },
  {
   "cell_type": "code",
   "execution_count": null,
   "id": "c8d0897c-75af-42bd-8ff4-75b385e0b1cc",
   "metadata": {},
   "outputs": [],
   "source": []
  }
 ],
 "metadata": {
  "kernelspec": {
   "display_name": "Python 3 (ipykernel)",
   "language": "python",
   "name": "python3"
  },
  "language_info": {
   "codemirror_mode": {
    "name": "ipython",
    "version": 3
   },
   "file_extension": ".py",
   "mimetype": "text/x-python",
   "name": "python",
   "nbconvert_exporter": "python",
   "pygments_lexer": "ipython3",
   "version": "3.11.9"
  }
 },
 "nbformat": 4,
 "nbformat_minor": 5
}
