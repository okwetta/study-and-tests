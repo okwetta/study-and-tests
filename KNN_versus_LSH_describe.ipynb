{
 "cells": [
  {
   "cell_type": "markdown",
   "metadata": {
    "id": "weZwOZgiyytZ"
   },
   "source": [
    "# KNN с использованием LSH"
   ]
  },
  {
   "cell_type": "code",
   "execution_count": null,
   "metadata": {
    "id": "ylXiLEM6yyt7"
   },
   "outputs": [],
   "source": [
    "import numpy as np\n",
    "\n",
    "RANDOM_STATE = 42\n",
    "rng = np.random.default_rng(RANDOM_STATE)"
   ]
  },
  {
   "cell_type": "markdown",
   "metadata": {
    "id": "28UxdKwsyyuC"
   },
   "source": [
    "Для демонстрации сгенерируем датасет из нормального распределения, где $m$ - число объектов, $n$ - число признаков."
   ]
  },
  {
   "cell_type": "code",
   "execution_count": null,
   "metadata": {
    "id": "wV9v6LfbyyuF"
   },
   "outputs": [],
   "source": [
    "m = 50000\n",
    "n = 10000"
   ]
  },
  {
   "cell_type": "markdown",
   "metadata": {
    "id": "i-XV1IYtFnVf"
   },
   "source": [
    "$q$ - вектор запроса (query), для которого мы ищем ближайших соседей."
   ]
  },
  {
   "cell_type": "code",
   "execution_count": null,
   "metadata": {
    "id": "Yz8nSFwIyyuI"
   },
   "outputs": [],
   "source": [
    "X = rng.normal(size=(m, n))  # датасет\n",
    "q = rng.normal(size=n)       # вектор запроса"
   ]
  },
  {
   "cell_type": "markdown",
   "metadata": {
    "id": "RNbV-QqqyyuK"
   },
   "source": [
    "## Поиск с помощью стандартного KNN"
   ]
  },
  {
   "cell_type": "code",
   "execution_count": null,
   "metadata": {
    "id": "1rBeyoGzyyuN"
   },
   "outputs": [],
   "source": [
    "def knn_search(query, data, k=5):\n",
    "\n",
    "    dists = np.sqrt(np.sum((data - query) ** 2, axis=1))  # вычисляем расстояния от объекта query до всех точек датасета\n",
    "    inds = np.argsort(dists)  # сортируем по возрастанию расстояний\n",
    "    inds_k = inds[:k]         # берем top-k точек с наименьшими расстояниями\n",
    "\n",
    "    return data[inds_k], dists[inds_k]"
   ]
  },
  {
   "cell_type": "code",
   "execution_count": null,
   "metadata": {
    "colab": {
     "base_uri": "https://localhost:8080/"
    },
    "id": "lLn2h8SSyyuO",
    "outputId": "22876a83-29b6-4636-e2bf-dae9616df49b",
    "scrolled": true
   },
   "outputs": [],
   "source": [
    "%%time\n",
    "\n",
    "neighbors, dists = knn_search(q, X)\n",
    "for i, (neighbor, dist) in enumerate(zip(neighbors, dists)):\n",
    "    print(f\"top {i + 1}: dist = {dist}\")"
   ]
  },
  {
   "cell_type": "markdown",
   "metadata": {
    "id": "8d_ns1xayyuR"
   },
   "source": [
    "## KNN с использованием LSH"
   ]
  },
  {
   "cell_type": "markdown",
   "metadata": {
    "id": "3yUaUjhMOBKC"
   },
   "source": [
    "Идея метода состоит в том, что:\n",
    "* Сначала при помощи LSH отбираем объекты, похожие на объект query\n",
    "* Затем при помощи KNN ищем ближайшие объекты к query только среди похожих, найденных на предыдущем шаге"
   ]
  },
  {
   "cell_type": "markdown",
   "metadata": {
    "id": "xzDGRpThyyuR"
   },
   "source": [
    "Используем метод LSH с кодированием при помощи случайных проекций. Он состоит в следующем:\n",
    "* проводим несколько случайных гиперплоскостей\n",
    "* для каждой плоскости: для каждого объекта ставим 1, если объект лежит выше плоскости, и 0 иначе\n",
    "* тогда каждый объект кодируется вектором из 0 и 1, где длина вектора равна числу сгенерированных гиперплоскостей\n",
    "\n",
    "Объекты похожи, если их кодировки совпадают."
   ]
  },
  {
   "cell_type": "markdown",
   "metadata": {
    "id": "cfNlL-LoyyuT"
   },
   "source": [
    "Следующая функция вычисляет количество случайных гиперплоскостей и генерирует их, основываясь на том, сколько в среднем мы хотим получать объектов в одной корзине после хеширования (`bucket_size`)."
   ]
  },
  {
   "cell_type": "code",
   "execution_count": null,
   "metadata": {
    "id": "PnCKb1aFyyuV"
   },
   "outputs": [],
   "source": [
    "def generate_hyperplanes(data, bucket_size=16):\n",
    "    m = data.shape[0]            # число объектов\n",
    "    n = data.shape[1]            # число признаков\n",
    "    b = m // bucket_size         # количество корзин\n",
    "    h = int(np.log2(b))          # количество гиперплоскостей\n",
    "    H = rng.normal(size=(h, n))  # гиперплоскости, заданные своими нормалями\n",
    "    return H"
   ]
  },
  {
   "cell_type": "markdown",
   "metadata": {
    "id": "-1Zr9N2WIV8j"
   },
   "source": [
    "Следующая функция хеширует данные, основываясь на полученных гиперплоскостях, то есть кодирует объект вектором из 0 и 1.\n",
    "\n",
    "Затем для удобства функция переводит вектор в число путем перевода из двоичной системы в десятичную.\n",
    "\n",
    "Например: $[0, 1, 1, 0] \\to 0 \\cdot 1 + 1 \\cdot 2 + 1 \\cdot 4 + 0 \\cdot 8 = 6$\n",
    "\n",
    "Между двоичной и десятичной записью взаимно однозначное соответствие, но десятичная запись удобнее.  \n",
    "По сути полученное число - это номер корзины, в которую попадает объект."
   ]
  },
  {
   "cell_type": "code",
   "execution_count": null,
   "metadata": {
    "id": "tbzxI0e8yyuS"
   },
   "outputs": [],
   "source": [
    "def hamming_hash(data, hyperplanes):\n",
    "    b = len(hyperplanes)\n",
    "    hash_key = (data @ hyperplanes.T) >= 0\n",
    "\n",
    "    dec_vals = np.array([2 ** i for i in range(b)], dtype=int)\n",
    "    hash_key = hash_key @ dec_vals\n",
    "\n",
    "    return hash_key"
   ]
  },
  {
   "cell_type": "markdown",
   "metadata": {
    "id": "38l2OxPaJMYt"
   },
   "source": [
    "Теперь мы умеем по каждому объекту определять номер корзины, в которую он попадает.\n",
    "\n",
    "Функция ниже создает словарь, где для каждой корзины содержатся элементы выборки, попадающие в эту корзину  \n",
    "(эта структура называется *хеш-таблицей*)."
   ]
  },
  {
   "cell_type": "code",
   "execution_count": null,
   "metadata": {
    "id": "gM2faAYbyyuW"
   },
   "outputs": [],
   "source": [
    "def locality_sensitive_hash(data, hyperplanes):\n",
    "    hash_vals = hamming_hash(data, hyperplanes)\n",
    "    hash_table = {}\n",
    "    for i, v in enumerate(hash_vals):\n",
    "        if v not in hash_table:\n",
    "            hash_table[v] = set()\n",
    "        hash_table[v].add(i)\n",
    "\n",
    "    return hash_table"
   ]
  },
  {
   "cell_type": "markdown",
   "metadata": {
    "id": "-nAh7uzgJr5A"
   },
   "source": [
    "Посмотрим, как работают описанные функции."
   ]
  },
  {
   "cell_type": "code",
   "execution_count": null,
   "metadata": {
    "colab": {
     "base_uri": "https://localhost:8080/"
    },
    "id": "ulyAFF48A68z",
    "outputId": "19fff79e-a683-4497-d5b4-07f9d539e80c"
   },
   "outputs": [],
   "source": [
    "hyperplanes = generate_hyperplanes(X)\n",
    "\n",
    "print('num planes:',len(hyperplanes))\n",
    "print('normal vector to 1st plane:',hyperplanes[0])"
   ]
  },
  {
   "cell_type": "markdown",
   "metadata": {
    "id": "LXccOD0zKkye"
   },
   "source": [
    "![normal.png](data:image/png;base64,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)"
   ]
  },
  {
   "cell_type": "code",
   "execution_count": null,
   "metadata": {
    "colab": {
     "base_uri": "https://localhost:8080/"
    },
    "id": "TIwUrMJdBQs2",
    "outputId": "2c0d46d8-f25b-45a4-96aa-7c282fe29b21"
   },
   "outputs": [],
   "source": [
    "hamming_hash(q, hyperplanes)"
   ]
  },
  {
   "cell_type": "code",
   "execution_count": null,
   "metadata": {
    "colab": {
     "base_uri": "https://localhost:8080/"
    },
    "id": "cbOU2BynCiL9",
    "outputId": "73c7896c-0159-458d-8bf8-9a4dfe78c4d7"
   },
   "outputs": [],
   "source": [
    "hash_table = locality_sensitive_hash(X, hyperplanes)\n",
    "hash_table"
   ]
  },
  {
   "cell_type": "markdown",
   "metadata": {
    "id": "itPwU3SkyyuY"
   },
   "source": [
    "Теперь реализуем алгоритм поиска KNN с использованием LSH:\n",
    "* Сначала при помощи LSH отбираем объекты, похожие на объект query\n",
    "* Затем при помощи KNN ищем ближайшие объекты к query только среди похожих, найденных на предыдущем шаге"
   ]
  },
  {
   "cell_type": "code",
   "execution_count": null,
   "metadata": {
    "id": "bFTCLt0_yyuZ"
   },
   "outputs": [],
   "source": [
    "def approx_knn_search(query, data, k=5, bucket_size=16):\n",
    "    candidates = set()\n",
    "\n",
    "    hyperplanes = generate_hyperplanes(data)\n",
    "    hash_table = locality_sensitive_hash(data, hyperplanes) # формируем хеш-таблицу по датасету\n",
    "\n",
    "    query_hash = hamming_hash(query, hyperplanes)\n",
    "    if query_hash in hash_table:\n",
    "        candidates = candidates.union(hash_table[query_hash])\n",
    "    candidates = np.stack([data[i] for i in candidates], axis=0) # находим кандидатов = объекты, попадающие с query в одну корзину\n",
    "\n",
    "    return knn_search(query, candidates, k=k) # с помощью KNN ищем ближайших соседей только из найденных кандидатов"
   ]
  },
  {
   "cell_type": "code",
   "execution_count": null,
   "metadata": {
    "colab": {
     "base_uri": "https://localhost:8080/"
    },
    "id": "ig8T2bfEyyua",
    "outputId": "4b1d136e-754c-4b23-9136-a32f33c98a27"
   },
   "outputs": [],
   "source": [
    "%%time\n",
    "\n",
    "neighbors, dists = approx_knn_search(q, X)\n",
    "\n",
    "for i, (neighbor, dist) in enumerate(zip(neighbors, dists)):\n",
    "    print(f\"top {i + 1}: dist = {dist}\")"
   ]
  }
 ],
 "metadata": {
  "accelerator": "GPU",
  "colab": {
   "provenance": []
  },
  "gpuClass": "standard",
  "kernelspec": {
   "display_name": "Python 3 (ipykernel)",
   "language": "python",
   "name": "python3"
  },
  "language_info": {
   "codemirror_mode": {
    "name": "ipython",
    "version": 3
   },
   "file_extension": ".py",
   "mimetype": "text/x-python",
   "name": "python",
   "nbconvert_exporter": "python",
   "pygments_lexer": "ipython3",
   "version": "3.11.9"
  }
 },
 "nbformat": 4,
 "nbformat_minor": 4
}
