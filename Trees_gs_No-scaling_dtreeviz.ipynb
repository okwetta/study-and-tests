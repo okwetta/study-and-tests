{
 "cells": [
  {
   "cell_type": "code",
   "execution_count": null,
   "metadata": {
    "id": "FF4NTn-lb54s"
   },
   "outputs": [],
   "source": [
    "%%capture\n",
    "!python -m pip install --upgrade pip\n",
    "!pip install --upgrade scikit-learn-intelex"
   ]
  },
  {
   "cell_type": "code",
   "execution_count": null,
   "metadata": {
    "colab": {
     "base_uri": "https://localhost:8080/",
     "height": 0
    },
    "id": "mz6b0PHqb7Wq",
    "outputId": "ea5b0a6c-70af-4a11-f77b-54a3b2b9a225"
   },
   "outputs": [],
   "source": [
    "from sklearnex import patch_sklearn\n",
    "patch_sklearn()"
   ]
  },
  {
   "cell_type": "code",
   "execution_count": null,
   "metadata": {
    "id": "RJcBsRykTk3b"
   },
   "outputs": [],
   "source": [
    "import sys\n",
    "import os\n",
    "import site\n",
    "import pandas as pd\n",
    "import numpy as np\n",
    "\n",
    "sys.path.append(os.path.join(os.path.dirname(site.getsitepackages()[0]), \"site-packages\"))"
   ]
  },
  {
   "cell_type": "code",
   "execution_count": null,
   "metadata": {
    "id": "yZZGDLjyq6oQ"
   },
   "outputs": [],
   "source": [
    "RANDOM_STATE = 42"
   ]
  },
  {
   "cell_type": "code",
   "execution_count": null,
   "metadata": {
    "colab": {
     "base_uri": "https://localhost:8080/",
     "height": 241
    },
    "id": "DIjF1xlpwOMd",
    "outputId": "f48fce87-2961-477a-dd01-5b2439c0d284"
   },
   "outputs": [],
   "source": [
    "df = pd.read_csv(\"https://raw.githubusercontent.com/evgpat/edu_stepik_practical_ml/main/datasets/telecom_churn.csv\")\n",
    "df.head()"
   ]
  },
  {
   "cell_type": "code",
   "execution_count": null,
   "metadata": {
    "id": "Jz_uDKBvrM4P"
   },
   "outputs": [],
   "source": [
    "np.random.seed(RANDOM_STATE)"
   ]
  },
  {
   "cell_type": "markdown",
   "metadata": {
    "id": "MT5L6lWZyDkE"
   },
   "source": [
    "Сделаем первичную обработку данных:"
   ]
  },
  {
   "cell_type": "code",
   "execution_count": null,
   "metadata": {
    "id": "7U6J16EVx0iy"
   },
   "outputs": [],
   "source": [
    "df = df.drop(columns = 'State')\n",
    "df['Voice mail plan']= df['Voice mail plan'].map({'Yes': 1, 'No': 0})\n",
    "df['International plan']= df['International plan'].map({'Yes': 1, 'No': 0})\n",
    "df['Churn'] = df['Churn'].astype(int)\n"
   ]
  },
  {
   "cell_type": "code",
   "execution_count": null,
   "metadata": {
    "colab": {
     "base_uri": "https://localhost:8080/",
     "height": 0
    },
    "id": "lG9oOv0uydW8",
    "outputId": "4b3350d8-4a13-4d72-d60e-d67a99ec34ad"
   },
   "outputs": [],
   "source": [
    "print(df.head())"
   ]
  },
  {
   "cell_type": "code",
   "execution_count": null,
   "metadata": {
    "id": "Nd0nCW4eypLE"
   },
   "outputs": [],
   "source": [
    "X = df.drop(columns = 'Churn')\n",
    "y = df['Churn']"
   ]
  },
  {
   "cell_type": "markdown",
   "metadata": {
    "id": "253CDINX1TmR"
   },
   "source": [
    "По кросс-валидации с тремя фолдами и метрикой ROC-AUC обучим логистическую регрессию, метод опорных векторов и решающее дерево"
   ]
  },
  {
   "cell_type": "code",
   "execution_count": null,
   "metadata": {
    "colab": {
     "base_uri": "https://localhost:8080/",
     "height": 0
    },
    "id": "GsQW48lf1SxJ",
    "outputId": "b15c47b3-d235-46e8-f73b-2468f5d7c659"
   },
   "outputs": [],
   "source": [
    "from sklearn.linear_model import LogisticRegression\n",
    "from sklearn.svm import SVC\n",
    "from sklearn.model_selection import cross_val_score\n",
    "\n",
    "cross_val_score(SVC(kernel='linear'), X, y, cv=3, scoring='roc_auc', verbose=2).mean()"
   ]
  },
  {
   "cell_type": "code",
   "execution_count": null,
   "metadata": {},
   "outputs": [],
   "source": [
    "cross_val_score(LogisticRegression(), X, y, cv=3, scoring='roc_auc', verbose=2).mean()"
   ]
  },
  {
   "cell_type": "code",
   "execution_count": null,
   "metadata": {
    "colab": {
     "base_uri": "https://localhost:8080/",
     "height": 0
    },
    "id": "yc822SQa2Zsc",
    "outputId": "a4f7e5ee-d408-40dd-a10a-f2ba9f9b5ff9"
   },
   "outputs": [],
   "source": [
    "from sklearn.tree import DecisionTreeClassifier\n",
    "cross_val_score(DecisionTreeClassifier(random_state = RANDOM_STATE), X, y, cv=3, scoring='roc_auc',  verbose = 2).mean()"
   ]
  },
  {
   "cell_type": "markdown",
   "metadata": {
    "id": "Bof-nFO-3pp7"
   },
   "source": [
    "Улучшим модели подобрав гиперпараметры на трейне"
   ]
  },
  {
   "cell_type": "code",
   "execution_count": null,
   "metadata": {
    "id": "iQaQGXpmQ1dI"
   },
   "outputs": [],
   "source": [
    "from sklearn.model_selection import train_test_split\n",
    "\n",
    "Xtrain, Xtest, ytrain, ytest = train_test_split(X, y, test_size=0.3, random_state=RANDOM_STATE)"
   ]
  },
  {
   "cell_type": "code",
   "execution_count": null,
   "metadata": {
    "colab": {
     "base_uri": "https://localhost:8080/",
     "height": 0
    },
    "id": "hk9rxc993bRu",
    "outputId": "d7ce5bc5-f09c-4c26-c6d3-7d9dbb06f1d8"
   },
   "outputs": [],
   "source": [
    "from sklearn.model_selection import GridSearchCV\n",
    "\n",
    "params = {'C' : np.linspace(0.1, 10.01, 20)}\n",
    "\n",
    "gs = GridSearchCV(LogisticRegression(), params, cv=3, scoring='roc_auc')\n",
    "\n",
    "gs.fit(Xtrain, ytrain)\n",
    "\n",
    "gs.best_score_, gs.best_estimator_"
   ]
  },
  {
   "cell_type": "code",
   "execution_count": null,
   "metadata": {
    "colab": {
     "base_uri": "https://localhost:8080/",
     "height": 0
    },
    "id": "gdpy_r1k4qNs",
    "outputId": "b27c97f5-33bd-4725-f343-e30c085cc356"
   },
   "outputs": [],
   "source": [
    "from sklearn.metrics import roc_auc_score\n",
    "\n",
    "lr = gs.best_estimator_\n",
    "\n",
    "pred_lr = lr.predict_proba(Xtest)[:,1]\n",
    "print(roc_auc_score(ytest, pred_lr))"
   ]
  },
  {
   "cell_type": "code",
   "execution_count": null,
   "metadata": {
    "colab": {
     "base_uri": "https://localhost:8080/",
     "height": 0
    },
    "id": "EzZ8K1eI5FLU",
    "outputId": "2c00ab8e-86db-4170-9b41-1d908c447dbb"
   },
   "outputs": [],
   "source": [
    "\n",
    "params = {'criterion': ['gini','entropy', 'log_loss'], 'max_depth' : np.arange(0, 50, 1),'min_samples_split':np.arange(2, 10, 2), 'min_samples_leaf': np.arange(0, 50, 1)}\n",
    "\n",
    "gs = GridSearchCV(DecisionTreeClassifier(random_state = RANDOM_STATE), params, cv=3, scoring='roc_auc')\n",
    "\n",
    "gs.fit(Xtrain, ytrain)\n",
    "\n",
    "gs.best_score_, gs.best_estimator_\n",
    "\n",
    "\n",
    "lr = gs.best_estimator_\n",
    "\n",
    "pred_lr = lr.predict_proba(Xtest)[:,1]\n",
    "print(roc_auc_score(ytest, pred_lr))"
   ]
  },
  {
   "cell_type": "markdown",
   "metadata": {
    "id": "9QqqeHyP6Y4o"
   },
   "source": [
    "Нарисуем roc-кривую для наилучшей модели и посчитаем f1_score"
   ]
  },
  {
   "cell_type": "code",
   "execution_count": null,
   "metadata": {
    "colab": {
     "base_uri": "https://localhost:8080/",
     "height": 471
    },
    "id": "xzrjnbQB6YMA",
    "outputId": "4767de88-f893-4c90-a6f6-ee1db60237ad"
   },
   "outputs": [],
   "source": [
    "from sklearn.metrics import roc_curve, auc\n",
    "from matplotlib import pyplot as plt\n",
    "from sklearn.metrics import f1_score\n",
    "\n",
    "pred = lr.predict(Xtest)\n",
    "print(f1_score(ytest, pred))\n",
    "print(gs.best_estimator_)\n",
    "\n",
    "fpr, tpr, threshold = roc_curve(ytest, pred_lr)\n",
    "roc_auc = auc(fpr, tpr)\n",
    "plt.plot(fpr, tpr, 'b')\n",
    "plt.plot([0,1], [0,1], 'r--')\n",
    "plt.xlim([0,1])\n",
    "plt.ylim([0,1])\n",
    "plt.show()"
   ]
  },
  {
   "cell_type": "markdown",
   "metadata": {
    "id": "2mkfXjsENXB0"
   },
   "source": [
    "Сравните между собой две лучшие модели."
   ]
  },
  {
   "cell_type": "code",
   "execution_count": null,
   "metadata": {
    "id": "cc0q1_XL7QT0"
   },
   "outputs": [],
   "source": [
    "!pip install -q dtreeviz\n",
    "import dtreeviz"
   ]
  },
  {
   "cell_type": "code",
   "execution_count": null,
   "metadata": {
    "colab": {
     "base_uri": "https://localhost:8080/",
     "height": 7715
    },
    "id": "nGzjGf_UdDGg",
    "outputId": "79dfb587-d3fe-423f-f108-61431a4d9319"
   },
   "outputs": [],
   "source": [
    "model = dtreeviz.model(lr, Xtrain, ytrain, feature_names=Xtrain.columns)\n",
    "model.view(fancy = False, scale = 2)"
   ]
  },
  {
   "cell_type": "code",
   "execution_count": null,
   "metadata": {},
   "outputs": [],
   "source": []
  }
 ],
 "metadata": {
  "colab": {
   "provenance": []
  },
  "kernelspec": {
   "display_name": "Python 3 (ipykernel)",
   "language": "python",
   "name": "python3"
  },
  "language_info": {
   "codemirror_mode": {
    "name": "ipython",
    "version": 3
   },
   "file_extension": ".py",
   "mimetype": "text/x-python",
   "name": "python",
   "nbconvert_exporter": "python",
   "pygments_lexer": "ipython3",
   "version": "3.11.9"
  }
 },
 "nbformat": 4,
 "nbformat_minor": 4
}
