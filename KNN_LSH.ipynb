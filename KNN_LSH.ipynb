{
 "cells": [
  {
   "cell_type": "markdown",
   "metadata": {
    "id": "AkS7Lxm8nTLB"
   },
   "source": [
    "# KNN+LSH"
   ]
  },
  {
   "cell_type": "code",
   "execution_count": null,
   "metadata": {
    "id": "shgV5ZT-oLG2"
   },
   "outputs": [],
   "source": [
    "import pandas as pd\n",
    "import numpy as np"
   ]
  },
  {
   "cell_type": "code",
   "execution_count": null,
   "metadata": {
    "id": "85Rgp6ivyvZq"
   },
   "outputs": [],
   "source": [
    "RANDOM_STATE = 42\n",
    "TRAIN_SIZE = 0.75"
   ]
  },
  {
   "cell_type": "code",
   "execution_count": null,
   "metadata": {
    "id": "QGpwI1GxyySs"
   },
   "outputs": [],
   "source": [
    "rng = np.random.default_rng(RANDOM_STATE)"
   ]
  },
  {
   "cell_type": "markdown",
   "metadata": {
    "id": "uOk2Swygyxho"
   },
   "source": [
    "## Загрузка данных"
   ]
  },
  {
   "cell_type": "code",
   "execution_count": null,
   "metadata": {
    "id": "_8RhxtHwwzTG"
   },
   "outputs": [],
   "source": [
    "from sklearn.datasets import load_wine\n",
    "\n",
    "data = load_wine(as_frame=True)\n",
    "\n",
    "X = data.data\n",
    "y = data.target"
   ]
  },
  {
   "cell_type": "markdown",
   "metadata": {},
   "source": [
    "Будем решать задачу мультиклассификации, поэтому посмотрим на количество объектов в каждом классе"
   ]
  },
  {
   "cell_type": "code",
   "execution_count": null,
   "metadata": {
    "colab": {
     "base_uri": "https://localhost:8080/"
    },
    "id": "vnIXJMT9nh78",
    "outputId": "c34a1a76-d6bc-48b1-cd50-b1f948eaeb3d"
   },
   "outputs": [],
   "source": [
    "print(y.value_counts())"
   ]
  },
  {
   "cell_type": "code",
   "execution_count": null,
   "metadata": {
    "id": "f16RkGUaxUh4"
   },
   "outputs": [],
   "source": [
    "from sklearn.model_selection import train_test_split\n",
    "\n",
    "X_train, X_test, y_train, y_test = train_test_split(X, y, test_size=0.25, random_state = RANDOM_STATE)"
   ]
  },
  {
   "cell_type": "markdown",
   "metadata": {
    "id": "bX6Vv4dryREe"
   },
   "source": [
    "Необходимо оценить размерность данных и, если необходимо, масштабировать признаки, ведь того требует KNN"
   ]
  },
  {
   "cell_type": "code",
   "execution_count": null,
   "metadata": {
    "colab": {
     "base_uri": "https://localhost:8080/",
     "height": 320
    },
    "id": "VTOG8ggByUSZ",
    "outputId": "8cea276f-42cf-4301-f9bd-e195a2b9d96f"
   },
   "outputs": [],
   "source": [
    "X_train.describe()"
   ]
  },
  {
   "cell_type": "code",
   "execution_count": null,
   "metadata": {
    "colab": {
     "base_uri": "https://localhost:8080/"
    },
    "id": "IMWxZOLMpLg_",
    "outputId": "ed75ee3b-0986-4900-e829-8205aaa23bcc"
   },
   "outputs": [],
   "source": [
    "from sklearn.preprocessing import StandardScaler\n",
    "\n",
    "scaler = StandardScaler()\n",
    "scaler.fit(X_train)\n",
    "X_train = pd.DataFrame(scaler.transform(X_train), columns = X_train.columns)\n",
    "X_test = pd.DataFrame(scaler.transform(X_test), columns = X_test.columns)"
   ]
  },
  {
   "cell_type": "markdown",
   "metadata": {
    "id": "wfjxuX1hyOpd"
   },
   "source": [
    "Обучим KNN с параметрами по умолчанию на тренировочных данных и сделаем предсказание на тесте."
   ]
  },
  {
   "cell_type": "code",
   "execution_count": null,
   "metadata": {
    "id": "VeyYEAO2yQhL"
   },
   "outputs": [],
   "source": [
    "from sklearn.neighbors import KNeighborsClassifier\n",
    "knn = KNeighborsClassifier(n_neighbors=3)\n",
    "knn.fit(X_train, y_train)\n",
    "pred = knn.predict(X_test)"
   ]
  },
  {
   "cell_type": "markdown",
   "metadata": {
    "id": "E18N3QNMrQLw"
   },
   "source": [
    "Будем измерять качество модели по метрике weighted $f1$-score."
   ]
  },
  {
   "cell_type": "code",
   "execution_count": null,
   "metadata": {
    "id": "TdhIWbULrnPv"
   },
   "outputs": [],
   "source": [
    "from sklearn.metrics import f1_score\n",
    "print(f1_score(y_test, pred, average='weighted'))"
   ]
  },
  {
   "cell_type": "markdown",
   "metadata": {
    "id": "BONbGWi1yVIQ"
   },
   "source": [
    "Попробуем улучшить модель с помощью `GridSearchCV`"
   ]
  },
  {
   "cell_type": "code",
   "execution_count": null,
   "metadata": {
    "colab": {
     "base_uri": "https://localhost:8080/"
    },
    "id": "6nM_wc6iydB-",
    "outputId": "292f1d09-5ce9-41b7-f278-a2c133845628"
   },
   "outputs": [],
   "source": [
    "from sklearn.model_selection import GridSearchCV\n",
    "from sklearn.model_selection import cross_val_score\n",
    "import numpy as np\n",
    "\n",
    "params = {'n_neighbors' : np.arange(3, 30, 2), 'weights': ['uniform', 'distance']}\n",
    "\n",
    "gs = GridSearchCV(KNeighborsClassifier(), params, cv=3, scoring='f1_weighted')\n",
    "\n",
    "\n",
    "gs.fit(X_train, y_train)\n",
    "\n",
    "print(gs.best_score_)\n",
    "print(gs.best_params_)\n"
   ]
  },
  {
   "cell_type": "code",
   "execution_count": null,
   "metadata": {
    "colab": {
     "base_uri": "https://localhost:8080/"
    },
    "id": "6Sn00daNtGWd",
    "outputId": "b04662c2-d709-4d6d-de90-fa239bdc3405"
   },
   "outputs": [],
   "source": [
    "clf = KNeighborsClassifier(**gs.best_params_)\n",
    "clf.fit(X_train, y_train)\n",
    "pred = clf.predict(X_test)\n",
    "f1_score(y_test, pred, average= 'weighted')"
   ]
  },
  {
   "cell_type": "markdown",
   "metadata": {
    "id": "FHgD2EQG1i1V"
   },
   "source": [
    "Посмотрим, какие классы между собой путает модель"
   ]
  },
  {
   "cell_type": "code",
   "execution_count": null,
   "metadata": {
    "colab": {
     "base_uri": "https://localhost:8080/"
    },
    "id": "I5u0A5a0yqge",
    "outputId": "76a20393-a69e-4234-fae6-9b2ea728bd1a"
   },
   "outputs": [],
   "source": [
    "from sklearn.metrics import confusion_matrix\n",
    "confusion_matrix(y_test, pred)"
   ]
  },
  {
   "cell_type": "markdown",
   "metadata": {
    "id": "9qKKGd2eyq6E"
   },
   "source": [
    "## Эксперименты с LSH"
   ]
  },
  {
   "cell_type": "markdown",
   "metadata": {},
   "source": [
    "Реализуем KNN и LSH с помощью функций\n",
    "Сначала при помощи LSH отбираем объекты, похожие на объект query\n",
    "Затем при помощи KNN ищем ближайшие объекты к query только среди похожих, найденных на предыдущем шаге"
   ]
  },
  {
   "cell_type": "code",
   "execution_count": null,
   "metadata": {
    "id": "ia2GsrwKy5co"
   },
   "outputs": [],
   "source": [
    "def generate_hyperplanes(data, bucket_size=16):\n",
    "    m = data.shape[0]            # число объектов\n",
    "    n = data.shape[1]            # число признаков\n",
    "    b = m // bucket_size         # количество корзин\n",
    "    h = int(np.log2(b))          # количество гиперплоскостей\n",
    "    H = rng.normal(size=(h, n))  # гиперплоскости, заданные своими нормалями\n",
    "    return H\n",
    "\n",
    "def hamming_hash(data, hyperplanes):\n",
    "    b = len(hyperplanes)\n",
    "    hash_key = (data @ hyperplanes.T) >= 0\n",
    "\n",
    "    dec_vals = np.array([2 ** i for i in range(b)], dtype=int)\n",
    "    hash_key = hash_key @ dec_vals\n",
    "\n",
    "    return hash_key\n",
    "    \n",
    "def locality_sensitive_hash(data, hyperplanes):\n",
    "    hash_vals = hamming_hash(data, hyperplanes)\n",
    "    hash_table = {}\n",
    "    for i, v in enumerate(hash_vals):\n",
    "        if v not in hash_table:\n",
    "            hash_table[v] = set()\n",
    "        hash_table[v].add(i)\n",
    "\n",
    "    return hash_table\n",
    "    \n",
    "def knn_search(query, data, k=5):\n",
    "\n",
    "    dists = np.sqrt(np.sum((data - query) ** 2, axis=1))  # вычисляем расстояния от объекта query до всех точек датасета\n",
    "    inds = np.argsort(dists)  # сортируем по возрастанию расстояний\n",
    "    inds_k = inds[:k]         # берем top-k точек с наименьшими расстояниями\n",
    "\n",
    "    return data[inds_k], dists[inds_k]\n",
    "    \n",
    "def approx_knn_search(query, data, k=5, bucket_size=16):\n",
    "    candidates = set()\n",
    "\n",
    "    hyperplanes = generate_hyperplanes(data)\n",
    "    hash_table = locality_sensitive_hash(data, hyperplanes) # формируем хеш-таблицу по датасету\n",
    "\n",
    "    query_hash = hamming_hash(query, hyperplanes)\n",
    "    if query_hash in hash_table:\n",
    "        candidates = candidates.union(hash_table[query_hash])\n",
    "    candidates = np.stack([data[i] for i in candidates], axis=0) # находим кандидатов = объекты, попадающие с query в одну корзину\n",
    "\n",
    "    return knn_search(query, candidates, k=k) # с помощью KNN ищем ближайших соседей только из найденных кандидатов"
   ]
  },
  {
   "cell_type": "markdown",
   "metadata": {
    "id": "nYFSYav3vzVC"
   },
   "source": [
    "При помощи `knn_search` найдем ближайших соседей к вину `X_test.iloc[0]`"
   ]
  },
  {
   "cell_type": "code",
   "execution_count": null,
   "metadata": {
    "colab": {
     "base_uri": "https://localhost:8080/"
    },
    "id": "NB-UNOgUunot",
    "outputId": "3ce406bf-9310-4692-a79a-1ba1492d0788"
   },
   "outputs": [],
   "source": [
    "%%time\n",
    "neighbors, dists = knn_search(X_test.iloc[0].values, X_test.values)\n",
    "for i, (neighbor, dist) in enumerate(zip(neighbors, dists)):\n",
    "    print(f\"top {i + 1}: dist = {dist}\")"
   ]
  },
  {
   "cell_type": "markdown",
   "metadata": {
    "id": "zWEBfyAay53O"
   },
   "source": [
    "Теперь найдем ближайшего соседа при помощи `approx_knn_search`."
   ]
  },
  {
   "cell_type": "code",
   "execution_count": null,
   "metadata": {
    "colab": {
     "base_uri": "https://localhost:8080/"
    },
    "id": "ezxEITyiy-1a",
    "outputId": "43b0c2a7-13e0-4b21-88f7-9cf31e272362"
   },
   "outputs": [],
   "source": [
    "%%time\n",
    "neighbors, dists = approx_knn_search(X_test.iloc[0].values, X_test.values)\n",
    "for i, (neighbor, dist) in enumerate(zip(neighbors, dists)):\n",
    "    print(f\"top {i + 1}: dist = {dist}\")"
   ]
  },
  {
   "cell_type": "markdown",
   "metadata": {
    "id": "sCPx6pgnwRqX"
   },
   "source": [
    "Ближайший сосед при помощи KNN+LSH может быть найден не точно или не с первого запуска.  \n",
    "Необходимо заупстить последнюю ячейку несколько раз и убедиться, что ближайший сосед находится верно за несколько запусков."
   ]
  }
 ],
 "metadata": {
  "colab": {
   "provenance": []
  },
  "kernelspec": {
   "display_name": "Python 3 (ipykernel)",
   "language": "python",
   "name": "python3"
  },
  "language_info": {
   "codemirror_mode": {
    "name": "ipython",
    "version": 3
   },
   "file_extension": ".py",
   "mimetype": "text/x-python",
   "name": "python",
   "nbconvert_exporter": "python",
   "pygments_lexer": "ipython3",
   "version": "3.11.9"
  }
 },
 "nbformat": 4,
 "nbformat_minor": 4
}
