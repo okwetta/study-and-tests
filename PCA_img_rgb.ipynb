{
 "cells": [
  {
   "cell_type": "markdown",
   "metadata": {
    "id": "0CBIoaf1u72l"
   },
   "source": [
    "# Сжатие изображения без потери качества при помощи PCA"
   ]
  },
  {
   "cell_type": "code",
   "execution_count": null,
   "metadata": {
    "id": "3F6pZ21etxXX"
   },
   "outputs": [],
   "source": [
    "import numpy as np\n",
    "import pandas as pd\n",
    "import matplotlib.pyplot as plt\n",
    "import matplotlib.image as mpimg\n",
    "import cv2\n",
    "\n",
    "from scipy.stats import stats\n",
    "from sklearn.decomposition import PCA"
   ]
  },
  {
   "cell_type": "markdown",
   "metadata": {
    "id": "YfM2wF-8txXZ"
   },
   "source": [
    "Загрузим картинку и нарисуем ее в монохромный формат"
   ]
  },
  {
   "cell_type": "code",
   "execution_count": null,
   "metadata": {
    "id": "eD_wXv0jxAtE"
   },
   "outputs": [],
   "source": [
    "%%capture\n",
    "!wget -O flower.png \"https://www.dropbox.com/s/xoos0myk285efyu/flower.png?dl=0\""
   ]
  },
  {
   "cell_type": "code",
   "execution_count": null,
   "metadata": {
    "colab": {
     "base_uri": "https://localhost:8080/",
     "height": 416
    },
    "id": "_lv8iMTVtxXZ",
    "outputId": "995a9ce8-aceb-4cf3-fd8f-061c0cbc814f"
   },
   "outputs": [],
   "source": [
    "img = cv2.cvtColor(cv2.imread('flower.png'), cv2.COLOR_BGR2GRAY)\n",
    "plt.imshow(img)\n",
    "plt.show()"
   ]
  },
  {
   "cell_type": "markdown",
   "metadata": {
    "id": "NP_VfzbitxXc"
   },
   "source": [
    "Посмотрим на матрицу изображения"
   ]
  },
  {
   "cell_type": "code",
   "execution_count": null,
   "metadata": {
    "colab": {
     "base_uri": "https://localhost:8080/"
    },
    "id": "WxAhf01YtxXd",
    "outputId": "f4754d63-e2e8-4273-ca32-fe8a09bc2be0"
   },
   "outputs": [],
   "source": [
    "img"
   ]
  },
  {
   "cell_type": "markdown",
   "metadata": {
    "id": "QJINFCh4txXd"
   },
   "source": [
    "### PCA"
   ]
  },
  {
   "cell_type": "code",
   "execution_count": null,
   "metadata": {
    "id": "v6Isx3XutxXe"
   },
   "outputs": [],
   "source": [
    "img = img / 255"
   ]
  },
  {
   "cell_type": "code",
   "execution_count": null,
   "metadata": {
    "id": "4uSjWgtOtxXe"
   },
   "outputs": [],
   "source": [
    "pca = PCA(n_components=60)\n",
    "\n",
    "imgpca = pca.fit_transform(img)"
   ]
  },
  {
   "cell_type": "code",
   "execution_count": null,
   "metadata": {
    "colab": {
     "base_uri": "https://localhost:8080/"
    },
    "id": "83pm612JtxXf",
    "outputId": "41ad2fee-4c41-4d04-d143-ecbaa6e09449"
   },
   "outputs": [],
   "source": [
    "prop_var = pca.explained_variance_ratio_\n",
    "prop_var"
   ]
  },
  {
   "cell_type": "markdown",
   "metadata": {
    "id": "TM1SpH8StxXg"
   },
   "source": [
    "Доля дисперсии, объясняемой каждой из первых 50-ти компонент."
   ]
  },
  {
   "cell_type": "code",
   "execution_count": null,
   "metadata": {
    "colab": {
     "base_uri": "https://localhost:8080/",
     "height": 450
    },
    "id": "DPlMpi3GtxXg",
    "outputId": "e4ce7078-fbe9-4bdf-d94b-72bb0293ece2"
   },
   "outputs": [],
   "source": [
    "PC_numbers = np.arange(pca.n_components_) + 1\n",
    "\n",
    "plt.plot(PC_numbers,\n",
    "         prop_var,\n",
    "         'ro-')\n",
    "plt.ylabel('Proportion of Variance', fontsize=8)\n",
    "plt.show()"
   ]
  },
  {
   "cell_type": "markdown",
   "metadata": {
    "id": "wBX12SvxtxXg"
   },
   "source": [
    "### Восстанавливаем изображение"
   ]
  },
  {
   "cell_type": "markdown",
   "metadata": {
    "id": "1pF3bNyjtxXh"
   },
   "source": [
    "Восстановим изображение, используя pca.inverse_transform."
   ]
  },
  {
   "cell_type": "code",
   "execution_count": null,
   "metadata": {
    "id": "SgSoKtz9txXh"
   },
   "outputs": [],
   "source": [
    "img1 = pca.inverse_transform(imgpca)"
   ]
  },
  {
   "cell_type": "markdown",
   "metadata": {
    "id": "sUcJA1ActxXi"
   },
   "source": [
    "Нарисуем рядом два изображения: исходное и восстановленное (по своим 50 компонентам)."
   ]
  },
  {
   "cell_type": "code",
   "execution_count": null,
   "metadata": {
    "colab": {
     "base_uri": "https://localhost:8080/",
     "height": 775
    },
    "id": "3Q2GjdhgtxXi",
    "outputId": "434868c3-f7e5-40dc-ab3e-ecef59efe613"
   },
   "outputs": [],
   "source": [
    "plt.imshow(img)\n",
    "plt.show()\n",
    "plt.imshow(img1)\n",
    "plt.show()"
   ]
  },
  {
   "cell_type": "markdown",
   "metadata": {
    "id": "xAOu4UU6txXj"
   },
   "source": [
    "Подберем минимальное количество компонент, при которых сжатое изображение визуально практически не отличается от исходного. Подбор происходит перебором, ориентируемся на визуальный результат."
   ]
  },
  {
   "cell_type": "code",
   "execution_count": null,
   "metadata": {
    "id": "lSgpRKIxtxXj"
   },
   "outputs": [],
   "source": [
    "pca = PCA(n_components=100)\n",
    "imgpca = pca.fit_transform(img)\n",
    "img1 = pca.inverse_transform(imgpca)\n",
    "\n",
    "plt.imshow(img)\n",
    "plt.show()\n",
    "plt.imshow(img1)\n",
    "plt.show()"
   ]
  },
  {
   "cell_type": "markdown",
   "metadata": {
    "id": "VEbX4CFwrhjh"
   },
   "source": [
    "С цветным изображением"
   ]
  },
  {
   "cell_type": "code",
   "execution_count": null,
   "metadata": {
    "colab": {
     "base_uri": "https://localhost:8080/",
     "height": 396
    },
    "id": "eNr27_G4rmbT",
    "outputId": "4fbacb36-66ce-4902-8d28-20b976a21d12"
   },
   "outputs": [],
   "source": [
    "img = cv2.cvtColor(cv2.imread('flower.png'), cv2.COLOR_BGR2RGB)\n",
    "plt.imshow(img)\n",
    "plt.show()"
   ]
  },
  {
   "cell_type": "markdown",
   "metadata": {
    "id": "oBQrWFgar3jd"
   },
   "source": [
    "Отличия от предыдущих шагов заключаются в том, что цветное RGB-изображение состоит из трех каналов - это матрица яркостей красного, матрица яркостей зеленого и матрица яркостей синего цветов.\n",
    "\n",
    "Все действия выше нужно проделать с каждым каналом в отдельности, а потом объединить преобразованные изображения для каждого канала - чтобы получить итоговую картинку со сниженной размерностью."
   ]
  },
  {
   "cell_type": "code",
   "execution_count": null,
   "metadata": {
    "colab": {
     "base_uri": "https://localhost:8080/",
     "height": 1000
    },
    "id": "-7cVZTPBrvxa",
    "outputId": "97771f4b-7a2e-4843-f8d5-799263e3c8b8"
   },
   "outputs": [],
   "source": [
    "imgred = img[:,:,0]\n",
    "pca = PCA(n_components=100)\n",
    "imgpcar = pca.fit_transform(imgred)\n",
    "img1r = pca.inverse_transform(imgpcar)\n",
    "\n",
    "\n",
    "imgb = img[:,:,1]\n",
    "pca = PCA(n_components=100)\n",
    "imgpcab = pca.fit_transform(imgb)\n",
    "img1b = pca.inverse_transform(imgpcab)\n",
    "\n",
    "imgg = img[:,:,2]\n",
    "pca = PCA(n_components=100)\n",
    "imgpcag = pca.fit_transform(imgg)\n",
    "img1g = pca.inverse_transform(imgpcag)\n",
    "\n",
    "imgrgb = img1r + img1g + img1b\n",
    "\n",
    "plt.imshow(img)\n",
    "plt.show()\n",
    "plt.imshow(img1r)\n",
    "plt.show()\n",
    "plt.imshow(img1b)\n",
    "plt.show()\n",
    "plt.imshow(img1g)\n",
    "plt.show()\n",
    "plt.imshow(imgrgb)\n",
    "plt.show()"
   ]
  }
 ],
 "metadata": {
  "colab": {
   "provenance": []
  },
  "kernelspec": {
   "display_name": "Python 3 (ipykernel)",
   "language": "python",
   "name": "python3"
  },
  "language_info": {
   "codemirror_mode": {
    "name": "ipython",
    "version": 3
   },
   "file_extension": ".py",
   "mimetype": "text/x-python",
   "name": "python",
   "nbconvert_exporter": "python",
   "pygments_lexer": "ipython3",
   "version": "3.11.9"
  }
 },
 "nbformat": 4,
 "nbformat_minor": 4
}
