{
 "cells": [
  {
   "cell_type": "markdown",
   "metadata": {
    "id": "k5pBjsriex9P"
   },
   "source": [
    "# Разложение ошибки"
   ]
  },
  {
   "cell_type": "code",
   "execution_count": null,
   "metadata": {
    "id": "W2Icd9gOeVjs"
   },
   "outputs": [],
   "source": [
    "import pandas as pd\n",
    "import numpy as np\n",
    "\n",
    "from sklearn.preprocessing import StandardScaler\n",
    "from sklearn.model_selection import train_test_split\n",
    "from sklearn.datasets import fetch_california_housing\n",
    "from sklearn.linear_model import LinearRegression\n",
    "from sklearn.tree import DecisionTreeRegressor"
   ]
  },
  {
   "cell_type": "code",
   "execution_count": null,
   "metadata": {
    "id": "m_UL-Xqtc2jm"
   },
   "outputs": [],
   "source": [
    "RANDOM_STATE = 42"
   ]
  },
  {
   "cell_type": "code",
   "execution_count": null,
   "metadata": {
    "id": "ZxMnrUDQ3Zzb"
   },
   "outputs": [],
   "source": [
    "data = fetch_california_housing(as_frame=True)\n",
    "\n",
    "X = data.data\n",
    "y = data.target"
   ]
  },
  {
   "cell_type": "code",
   "execution_count": null,
   "metadata": {
    "id": "Xe8OYaC43ccT"
   },
   "outputs": [],
   "source": [
    "Xtrain, Xtest, ytrain, ytest = train_test_split(X, y, test_size = 0.3, random_state = RANDOM_STATE)"
   ]
  },
  {
   "cell_type": "code",
   "execution_count": null,
   "metadata": {
    "id": "ceOULCLRcudb"
   },
   "outputs": [],
   "source": [
    "scaler = StandardScaler()\n",
    "scaler.fit(Xtrain)\n",
    "\n",
    "Xtrain = pd.DataFrame(data = scaler.transform(Xtrain), columns = X.columns)\n",
    "Xtest = pd.DataFrame(data = scaler.transform(Xtest), columns = X.columns)"
   ]
  },
  {
   "cell_type": "markdown",
   "metadata": {
    "id": "DKldEjCidFuE"
   },
   "source": [
    "## Bias-variance decomposition\n",
    "\n",
    "В библиотеке `mlxtend` есть функция `bias_variance_decomp` для оценки компонент разложения ошибки."
   ]
  },
  {
   "cell_type": "code",
   "execution_count": null,
   "metadata": {
    "id": "iHEOMpwPeUpR"
   },
   "outputs": [],
   "source": [
    "%%capture\n",
    "!pip install mlxtend --upgrade"
   ]
  },
  {
   "cell_type": "markdown",
   "metadata": {
    "id": "LtXZLXa-axra"
   },
   "source": [
    "### Гиперпараметры\n",
    "* `estimator` - семейство моделей\n",
    "* `X_train, y_train` - обучающие данные\n",
    "* `X_test, y_test` - тестовые данные\n",
    "* `loss` - функция потерь (MSE для регрессии, 0-1 loss (доля ошибок модели) для классификации)\n",
    "* `num_rounds=200` - число случайных подвыборок из `X_train` для обучения модели"
   ]
  },
  {
   "cell_type": "markdown",
   "metadata": {
    "id": "8XdrlWzvbvq-"
   },
   "source": [
    "### Возвращаемые значения\n",
    "\n",
    "* `avg_expected_loss` - ошибка на тестовых данных\n",
    "* `avg_expected_bias` - смещение\n",
    "* `avg_expected_variance` - разброс"
   ]
  },
  {
   "cell_type": "code",
   "execution_count": null,
   "metadata": {
    "id": "3PpHLFd2ZXu3"
   },
   "outputs": [],
   "source": [
    "from mlxtend.evaluate import bias_variance_decomp\n",
    "\n",
    "X_train = Xtrain.values\n",
    "y_train = ytrain.values\n",
    "X_test = Xtest.values\n",
    "y_test = ytest.values"
   ]
  },
  {
   "cell_type": "code",
   "execution_count": null,
   "metadata": {
    "id": "diFVb_hF3kgx"
   },
   "outputs": [],
   "source": [
    "avg_mse, avg_bias, avg_var = bias_variance_decomp(LinearRegression(), X_train, y_train,\n",
    "                                                  X_test, y_test, loss = 'mse',\n",
    "                                                  random_seed=np.random.seed(RANDOM_STATE))"
   ]
  },
  {
   "cell_type": "code",
   "execution_count": null,
   "metadata": {
    "colab": {
     "base_uri": "https://localhost:8080/"
    },
    "id": "6CcMdeDydgnJ",
    "outputId": "32f99d9c-559a-4c7b-ae28-87eb5cc43bbe"
   },
   "outputs": [],
   "source": [
    "print('Loss:', avg_mse)\n",
    "print('Bias:', avg_bias)\n",
    "print('Variance:', avg_var)"
   ]
  },
  {
   "cell_type": "code",
   "execution_count": null,
   "metadata": {
    "id": "DgA9ONlSZdcQ"
   },
   "outputs": [],
   "source": [
    "avg_mse, avg_bias, avg_var = bias_variance_decomp(DecisionTreeRegressor(), X_train, y_train,\n",
    "                                                  X_test, y_test, loss = 'mse',\n",
    "                                                  random_seed=np.random.seed(RANDOM_STATE))"
   ]
  },
  {
   "cell_type": "code",
   "execution_count": null,
   "metadata": {
    "colab": {
     "base_uri": "https://localhost:8080/"
    },
    "id": "MWuj19GoZeI4",
    "outputId": "1d5ff20e-face-4041-8b81-7074939cce55"
   },
   "outputs": [],
   "source": [
    "print('Loss:', avg_mse)\n",
    "print('Bias:', avg_bias)\n",
    "print('Variance:', avg_var)"
   ]
  },
  {
   "cell_type": "markdown",
   "metadata": {
    "id": "B2V1gqwqedEQ"
   },
   "source": [
    "Мы видим, что решающее дерево гораздо точнее предсказывает целевую переменную, чем линейная регрессия  \n",
    "(*bias* гораздо меньше), но при этом гораздо сильнее переобучено (*variance* гораздо больше).  \n",
    "За счет этого суммарная ошибка у дерева чуть больше, чем у линейной регрессии.\n",
    "\n",
    "Путем подбора гиперпараметров дерева можно снизить переобучение и суммарную ошибку."
   ]
  }
 ],
 "metadata": {
  "colab": {
   "provenance": []
  },
  "kernelspec": {
   "display_name": "Python 3 (ipykernel)",
   "language": "python",
   "name": "python3"
  },
  "language_info": {
   "codemirror_mode": {
    "name": "ipython",
    "version": 3
   },
   "file_extension": ".py",
   "mimetype": "text/x-python",
   "name": "python",
   "nbconvert_exporter": "python",
   "pygments_lexer": "ipython3",
   "version": "3.11.9"
  }
 },
 "nbformat": 4,
 "nbformat_minor": 4
}
